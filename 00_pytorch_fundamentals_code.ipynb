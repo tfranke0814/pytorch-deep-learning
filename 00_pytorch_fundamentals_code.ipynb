{
  "nbformat": 4,
  "nbformat_minor": 0,
  "metadata": {
    "colab": {
      "provenance": [],
      "toc_visible": true,
      "gpuType": "T4",
      "authorship_tag": "ABX9TyMQKzi6PTb67xjbP9pwPh2j",
      "include_colab_link": true
    },
    "kernelspec": {
      "name": "python3",
      "display_name": "Python 3"
    },
    "language_info": {
      "name": "python"
    },
    "accelerator": "GPU"
  },
  "cells": [
    {
      "cell_type": "markdown",
      "metadata": {
        "id": "view-in-github",
        "colab_type": "text"
      },
      "source": [
        "<a href=\"https://colab.research.google.com/github/tfranke0814/pytorch-deep-learning/blob/main/00_pytorch_fundamentals_code.ipynb\" target=\"_parent\"><img src=\"https://colab.research.google.com/assets/colab-badge.svg\" alt=\"Open In Colab\"/></a>"
      ]
    },
    {
      "cell_type": "markdown",
      "source": [
        "## 00. PyTorch Fundamentals\n",
        "\n",
        "Resource notebook: https://www.learnpytorch.io/00_pytorch_fundamentals/\n",
        "\n",
        "If you have a question: https://github.com/mrdbourke/pytorch-deep-learning/discussions"
      ],
      "metadata": {
        "id": "U010l7B1x-_M"
      }
    },
    {
      "cell_type": "code",
      "execution_count": 3,
      "metadata": {
        "colab": {
          "base_uri": "https://localhost:8080/"
        },
        "id": "dL9Q_d6htqoZ",
        "outputId": "89f346c9-aa2f-45c5-e8e0-dfc957e90b8b"
      },
      "outputs": [
        {
          "output_type": "stream",
          "name": "stdout",
          "text": [
            "Tue Jun  3 23:39:05 2025       \n",
            "+-----------------------------------------------------------------------------------------+\n",
            "| NVIDIA-SMI 550.54.15              Driver Version: 550.54.15      CUDA Version: 12.4     |\n",
            "|-----------------------------------------+------------------------+----------------------+\n",
            "| GPU  Name                 Persistence-M | Bus-Id          Disp.A | Volatile Uncorr. ECC |\n",
            "| Fan  Temp   Perf          Pwr:Usage/Cap |           Memory-Usage | GPU-Util  Compute M. |\n",
            "|                                         |                        |               MIG M. |\n",
            "|=========================================+========================+======================|\n",
            "|   0  Tesla T4                       Off |   00000000:00:04.0 Off |                    0 |\n",
            "| N/A   55C    P8             13W /   70W |       0MiB /  15360MiB |      0%      Default |\n",
            "|                                         |                        |                  N/A |\n",
            "+-----------------------------------------+------------------------+----------------------+\n",
            "                                                                                         \n",
            "+-----------------------------------------------------------------------------------------+\n",
            "| Processes:                                                                              |\n",
            "|  GPU   GI   CI        PID   Type   Process name                              GPU Memory |\n",
            "|        ID   ID                                                               Usage      |\n",
            "|=========================================================================================|\n",
            "|  No running processes found                                                             |\n",
            "+-----------------------------------------------------------------------------------------+\n"
          ]
        }
      ],
      "source": [
        "!nvidia-smi"
      ]
    },
    {
      "cell_type": "code",
      "source": [
        "import torch\n",
        "import pandas as pd\n",
        "import numpy as np\n",
        "import matplotlib.pyplot as plt\n",
        "print(torch.__version__)"
      ],
      "metadata": {
        "colab": {
          "base_uri": "https://localhost:8080/"
        },
        "id": "vnyQ7IMktyKr",
        "outputId": "c2bc1ea2-d32f-4351-c2bd-18e71ff1781e"
      },
      "execution_count": 4,
      "outputs": [
        {
          "output_type": "stream",
          "name": "stdout",
          "text": [
            "2.6.0+cu124\n"
          ]
        }
      ]
    },
    {
      "cell_type": "markdown",
      "source": [
        "## Intro to Tensors\n",
        "Dan Fleisch : https://www.youtube.com/watch?v=f5liqUk0ZTw\n",
        "\n",
        "### Creating tensors\n",
        "\n",
        "https://docs.pytorch.org/docs/stable/tensors.html"
      ],
      "metadata": {
        "id": "U1Xoyl7k3Mc3"
      }
    },
    {
      "cell_type": "code",
      "source": [
        "# Scalar\n",
        "scalar = torch.tensor(7)\n",
        "scalar"
      ],
      "metadata": {
        "colab": {
          "base_uri": "https://localhost:8080/"
        },
        "id": "JdHuKRA237FC",
        "outputId": "3441335c-fa65-4f53-cefb-d673d82ad1f6"
      },
      "execution_count": 5,
      "outputs": [
        {
          "output_type": "execute_result",
          "data": {
            "text/plain": [
              "tensor(7)"
            ]
          },
          "metadata": {},
          "execution_count": 5
        }
      ]
    },
    {
      "cell_type": "code",
      "source": [
        "scalar.ndim"
      ],
      "metadata": {
        "colab": {
          "base_uri": "https://localhost:8080/"
        },
        "id": "9gDEtmMG4gpW",
        "outputId": "8530b2d6-b906-428e-ad8e-106ec99f4cc8"
      },
      "execution_count": 6,
      "outputs": [
        {
          "output_type": "execute_result",
          "data": {
            "text/plain": [
              "0"
            ]
          },
          "metadata": {},
          "execution_count": 6
        }
      ]
    },
    {
      "cell_type": "code",
      "source": [
        "# Return tensor as Python int\n",
        "scalar.item()"
      ],
      "metadata": {
        "colab": {
          "base_uri": "https://localhost:8080/"
        },
        "id": "0CiF5cmc49W0",
        "outputId": "e7db7e04-aafe-4145-cb05-a4702ffa5cf5"
      },
      "execution_count": 7,
      "outputs": [
        {
          "output_type": "execute_result",
          "data": {
            "text/plain": [
              "7"
            ]
          },
          "metadata": {},
          "execution_count": 7
        }
      ]
    },
    {
      "cell_type": "code",
      "source": [
        "# Vector\n",
        "vector = torch.tensor([7, 7])\n",
        "vector"
      ],
      "metadata": {
        "colab": {
          "base_uri": "https://localhost:8080/"
        },
        "id": "uUzxAnhQ5HQm",
        "outputId": "14184adb-4748-48c0-bbca-397c1d43a7cd"
      },
      "execution_count": 8,
      "outputs": [
        {
          "output_type": "execute_result",
          "data": {
            "text/plain": [
              "tensor([7, 7])"
            ]
          },
          "metadata": {},
          "execution_count": 8
        }
      ]
    },
    {
      "cell_type": "code",
      "source": [
        "vector.ndim"
      ],
      "metadata": {
        "colab": {
          "base_uri": "https://localhost:8080/"
        },
        "id": "WgFCDC3t5T4A",
        "outputId": "84ad0f25-42f7-43cb-8458-39410628a989"
      },
      "execution_count": 9,
      "outputs": [
        {
          "output_type": "execute_result",
          "data": {
            "text/plain": [
              "1"
            ]
          },
          "metadata": {},
          "execution_count": 9
        }
      ]
    },
    {
      "cell_type": "code",
      "source": [
        "vector.shape"
      ],
      "metadata": {
        "colab": {
          "base_uri": "https://localhost:8080/"
        },
        "id": "PMuFa63X5eTy",
        "outputId": "e11a02e7-06fb-482a-a76d-994ecf4473e5"
      },
      "execution_count": 10,
      "outputs": [
        {
          "output_type": "execute_result",
          "data": {
            "text/plain": [
              "torch.Size([2])"
            ]
          },
          "metadata": {},
          "execution_count": 10
        }
      ]
    },
    {
      "cell_type": "code",
      "source": [
        "# MATRIX\n",
        "MATRIX = torch.tensor([[7, 8],\n",
        "                       [9, 10]])\n",
        "MATRIX"
      ],
      "metadata": {
        "colab": {
          "base_uri": "https://localhost:8080/"
        },
        "id": "vKlYobM35iF1",
        "outputId": "060f9d33-f2eb-4047-8d72-ceae47281bf1"
      },
      "execution_count": 11,
      "outputs": [
        {
          "output_type": "execute_result",
          "data": {
            "text/plain": [
              "tensor([[ 7,  8],\n",
              "        [ 9, 10]])"
            ]
          },
          "metadata": {},
          "execution_count": 11
        }
      ]
    },
    {
      "cell_type": "code",
      "source": [
        "MATRIX.ndim"
      ],
      "metadata": {
        "colab": {
          "base_uri": "https://localhost:8080/"
        },
        "id": "qd7uLcNW5udk",
        "outputId": "7a52f15b-e353-40d9-cf52-aacf7bfc5c7a"
      },
      "execution_count": 12,
      "outputs": [
        {
          "output_type": "execute_result",
          "data": {
            "text/plain": [
              "2"
            ]
          },
          "metadata": {},
          "execution_count": 12
        }
      ]
    },
    {
      "cell_type": "code",
      "source": [
        "MATRIX[0]\n",
        "MATRIX[1]"
      ],
      "metadata": {
        "colab": {
          "base_uri": "https://localhost:8080/"
        },
        "id": "6HXoGJQA53PO",
        "outputId": "c60a1143-d1c8-40e6-e24a-0c9317ce9ec1"
      },
      "execution_count": 13,
      "outputs": [
        {
          "output_type": "execute_result",
          "data": {
            "text/plain": [
              "tensor([ 9, 10])"
            ]
          },
          "metadata": {},
          "execution_count": 13
        }
      ]
    },
    {
      "cell_type": "code",
      "source": [
        "MATRIX.shape"
      ],
      "metadata": {
        "colab": {
          "base_uri": "https://localhost:8080/"
        },
        "id": "k-KnrN5p5-xS",
        "outputId": "03cd4346-b456-4027-acf1-ed60e975c778"
      },
      "execution_count": 14,
      "outputs": [
        {
          "output_type": "execute_result",
          "data": {
            "text/plain": [
              "torch.Size([2, 2])"
            ]
          },
          "metadata": {},
          "execution_count": 14
        }
      ]
    },
    {
      "cell_type": "code",
      "source": [
        "# TENSOR\n",
        "TENSOR = torch.tensor([[[1, 2, 3],\n",
        "                        [3, 6, 9],\n",
        "                        [2, 4, 5]]])\n",
        "TENSOR"
      ],
      "metadata": {
        "colab": {
          "base_uri": "https://localhost:8080/"
        },
        "id": "fPLfRR3m6Ecx",
        "outputId": "cd370739-c5d2-49a5-855a-db5b330f1ce1"
      },
      "execution_count": 15,
      "outputs": [
        {
          "output_type": "execute_result",
          "data": {
            "text/plain": [
              "tensor([[[1, 2, 3],\n",
              "         [3, 6, 9],\n",
              "         [2, 4, 5]]])"
            ]
          },
          "metadata": {},
          "execution_count": 15
        }
      ]
    },
    {
      "cell_type": "code",
      "source": [
        "TENSOR.ndim"
      ],
      "metadata": {
        "colab": {
          "base_uri": "https://localhost:8080/"
        },
        "id": "Md8ITooK6Ybb",
        "outputId": "1fb11742-6c4c-49d4-cb05-4137645dbc2c"
      },
      "execution_count": 16,
      "outputs": [
        {
          "output_type": "execute_result",
          "data": {
            "text/plain": [
              "3"
            ]
          },
          "metadata": {},
          "execution_count": 16
        }
      ]
    },
    {
      "cell_type": "code",
      "source": [
        "TENSOR.shape"
      ],
      "metadata": {
        "colab": {
          "base_uri": "https://localhost:8080/"
        },
        "id": "OmrdM4hb6e7v",
        "outputId": "11372054-3564-4908-ef58-d08e0abfaf65"
      },
      "execution_count": 17,
      "outputs": [
        {
          "output_type": "execute_result",
          "data": {
            "text/plain": [
              "torch.Size([1, 3, 3])"
            ]
          },
          "metadata": {},
          "execution_count": 17
        }
      ]
    },
    {
      "cell_type": "code",
      "source": [
        "TENSOR2 = torch.tensor([[[1,2,3],\n",
        "                         [4,5,6],\n",
        "                         [7,8,9]],\n",
        "                          [[9,8,7],\n",
        "                         [6,5,4],\n",
        "                         [3,2,1]]])\n",
        "TENSOR2"
      ],
      "metadata": {
        "colab": {
          "base_uri": "https://localhost:8080/"
        },
        "id": "zlHhi3Wk6ija",
        "outputId": "737ade89-fa9b-4ce4-865a-a6a89b4ce863"
      },
      "execution_count": 18,
      "outputs": [
        {
          "output_type": "execute_result",
          "data": {
            "text/plain": [
              "tensor([[[1, 2, 3],\n",
              "         [4, 5, 6],\n",
              "         [7, 8, 9]],\n",
              "\n",
              "        [[9, 8, 7],\n",
              "         [6, 5, 4],\n",
              "         [3, 2, 1]]])"
            ]
          },
          "metadata": {},
          "execution_count": 18
        }
      ]
    },
    {
      "cell_type": "code",
      "source": [
        "TENSOR2.ndim"
      ],
      "metadata": {
        "colab": {
          "base_uri": "https://localhost:8080/"
        },
        "id": "jiU72BVP7G9o",
        "outputId": "76240360-d841-4562-c358-8d2abb12a2d2"
      },
      "execution_count": 19,
      "outputs": [
        {
          "output_type": "execute_result",
          "data": {
            "text/plain": [
              "3"
            ]
          },
          "metadata": {},
          "execution_count": 19
        }
      ]
    },
    {
      "cell_type": "code",
      "source": [
        "TENSOR2.shape"
      ],
      "metadata": {
        "colab": {
          "base_uri": "https://localhost:8080/"
        },
        "id": "mCWMrZgZ7MO8",
        "outputId": "26213f4f-7a32-4296-a27a-0afff1e837ff"
      },
      "execution_count": 20,
      "outputs": [
        {
          "output_type": "execute_result",
          "data": {
            "text/plain": [
              "torch.Size([2, 3, 3])"
            ]
          },
          "metadata": {},
          "execution_count": 20
        }
      ]
    },
    {
      "cell_type": "code",
      "source": [
        "## ERROR\n",
        "\n",
        "# TENSOR3 = torch.tensor([[[1,2,3],\n",
        "#                          [4,5,6]],\n",
        "#                           [[9,8,7],\n",
        "#                          [6,5,4],\n",
        "#                          [3,2,1]]])\n",
        "# TENSOR3\n",
        "\n",
        "TENSOR4 = torch.tensor([[[[1,2,3, 4, 3],\n",
        "                         [4,5,6, 3, 7]],\n",
        "                          [[9,8,7, 5, 5],\n",
        "                         [6,5,4, 6, 7]], [[1,2,3, 4, 3],\n",
        "                         [4,5,6, 3, 7]],\n",
        "                          [[9,8,7, 5, 5],\n",
        "                         [6,5,4, 6, 7]]], [[[1,2,3, 4, 3],\n",
        "                         [4,5,6, 3, 7]],\n",
        "                          [[9,8,7, 5, 5],\n",
        "                         [6,5,4, 6, 7]], [[1,2,3, 4, 3],\n",
        "                         [4,5,6, 3, 7]],\n",
        "                          [[9,8,7, 5, 5],\n",
        "                         [6,5,4, 6, 7]]]])\n",
        "print(TENSOR4)\n",
        "print(TENSOR4.ndim)\n",
        "print(TENSOR4.shape)"
      ],
      "metadata": {
        "colab": {
          "base_uri": "https://localhost:8080/"
        },
        "id": "js1IteNk7N5A",
        "outputId": "c20ecf4b-7507-4283-e50f-0f32ff5007d0"
      },
      "execution_count": 21,
      "outputs": [
        {
          "output_type": "stream",
          "name": "stdout",
          "text": [
            "tensor([[[[1, 2, 3, 4, 3],\n",
            "          [4, 5, 6, 3, 7]],\n",
            "\n",
            "         [[9, 8, 7, 5, 5],\n",
            "          [6, 5, 4, 6, 7]],\n",
            "\n",
            "         [[1, 2, 3, 4, 3],\n",
            "          [4, 5, 6, 3, 7]],\n",
            "\n",
            "         [[9, 8, 7, 5, 5],\n",
            "          [6, 5, 4, 6, 7]]],\n",
            "\n",
            "\n",
            "        [[[1, 2, 3, 4, 3],\n",
            "          [4, 5, 6, 3, 7]],\n",
            "\n",
            "         [[9, 8, 7, 5, 5],\n",
            "          [6, 5, 4, 6, 7]],\n",
            "\n",
            "         [[1, 2, 3, 4, 3],\n",
            "          [4, 5, 6, 3, 7]],\n",
            "\n",
            "         [[9, 8, 7, 5, 5],\n",
            "          [6, 5, 4, 6, 7]]]])\n",
            "4\n",
            "torch.Size([2, 4, 2, 5])\n"
          ]
        }
      ]
    },
    {
      "cell_type": "markdown",
      "source": [
        "### Random tensors\n",
        "\n",
        "Why random tensors?\n",
        "\n",
        "Many NNs start with random numbers and adjust numbers to better represent data.\n"
      ],
      "metadata": {
        "id": "2GLsvkyB7rG5"
      }
    },
    {
      "cell_type": "code",
      "source": [
        "# Create a random tensors of size (3, 4)\n",
        "# random_tensor = torch.rand(3, 4)\n",
        "# random_tensor = torch.rand(1, 3, 4)\n",
        "random_tensor = torch.rand(2, 3, 4)\n",
        "random_tensor"
      ],
      "metadata": {
        "colab": {
          "base_uri": "https://localhost:8080/"
        },
        "id": "xNKfNKeG9AS0",
        "outputId": "2cfeb01f-4c85-4372-a562-58681dc50d76"
      },
      "execution_count": 22,
      "outputs": [
        {
          "output_type": "execute_result",
          "data": {
            "text/plain": [
              "tensor([[[0.4809, 0.9034, 0.3470, 0.4118],\n",
              "         [0.6197, 0.3665, 0.1770, 0.2639],\n",
              "         [0.3673, 0.2941, 0.2363, 0.4554]],\n",
              "\n",
              "        [[0.2211, 0.3978, 0.5339, 0.4757],\n",
              "         [0.8792, 0.8056, 0.7889, 0.5603],\n",
              "         [0.7081, 0.8305, 0.5843, 0.5438]]])"
            ]
          },
          "metadata": {},
          "execution_count": 22
        }
      ]
    },
    {
      "cell_type": "code",
      "source": [
        "random_tensor.ndim"
      ],
      "metadata": {
        "colab": {
          "base_uri": "https://localhost:8080/"
        },
        "id": "1Bb6NYbM9jzg",
        "outputId": "4705a689-0fa5-4084-e103-c45efb71432f"
      },
      "execution_count": 23,
      "outputs": [
        {
          "output_type": "execute_result",
          "data": {
            "text/plain": [
              "3"
            ]
          },
          "metadata": {},
          "execution_count": 23
        }
      ]
    },
    {
      "cell_type": "code",
      "source": [
        "# Create a random tensor with similar shape to an image tensor\n",
        "random_image_size_tensor = torch.rand(size=(224, 224, 3)) # height, width, color channels (R, G, B)\n",
        "random_image_size_tensor.shape, random_image_size_tensor.ndim"
      ],
      "metadata": {
        "colab": {
          "base_uri": "https://localhost:8080/"
        },
        "id": "t9KokfFr9xyQ",
        "outputId": "3fad30d2-93ac-4663-c342-58b2eb861411"
      },
      "execution_count": 24,
      "outputs": [
        {
          "output_type": "execute_result",
          "data": {
            "text/plain": [
              "(torch.Size([224, 224, 3]), 3)"
            ]
          },
          "metadata": {},
          "execution_count": 24
        }
      ]
    },
    {
      "cell_type": "markdown",
      "source": [
        "### Zeros and Ones"
      ],
      "metadata": {
        "id": "EnvJutoA-uxj"
      }
    },
    {
      "cell_type": "code",
      "source": [
        "# Create a tensor of all zeros\n",
        "zeros = torch.zeros(2, 3)\n",
        "print(zeros)\n",
        "\n",
        "# Create a tensor of all ones\n",
        "ones = torch.ones(2, 3)\n",
        "print(ones)"
      ],
      "metadata": {
        "colab": {
          "base_uri": "https://localhost:8080/"
        },
        "id": "7TQoswXe_h8k",
        "outputId": "0813412a-7623-49bd-c7df-3360994040ef"
      },
      "execution_count": 25,
      "outputs": [
        {
          "output_type": "stream",
          "name": "stdout",
          "text": [
            "tensor([[0., 0., 0.],\n",
            "        [0., 0., 0.]])\n",
            "tensor([[1., 1., 1.],\n",
            "        [1., 1., 1.]])\n"
          ]
        }
      ]
    },
    {
      "cell_type": "code",
      "source": [
        "ones.dtype"
      ],
      "metadata": {
        "colab": {
          "base_uri": "https://localhost:8080/"
        },
        "id": "V1lfSHxy_3Y5",
        "outputId": "79fd14fb-67b1-472f-c064-30fd44cb4026"
      },
      "execution_count": 26,
      "outputs": [
        {
          "output_type": "execute_result",
          "data": {
            "text/plain": [
              "torch.float32"
            ]
          },
          "metadata": {},
          "execution_count": 26
        }
      ]
    },
    {
      "cell_type": "code",
      "source": [
        "random_tensor.dtype"
      ],
      "metadata": {
        "colab": {
          "base_uri": "https://localhost:8080/"
        },
        "id": "3TO-cJ9u_4m7",
        "outputId": "1e22061e-fc9d-42ce-d86f-40399f5a6c93"
      },
      "execution_count": 27,
      "outputs": [
        {
          "output_type": "execute_result",
          "data": {
            "text/plain": [
              "torch.float32"
            ]
          },
          "metadata": {},
          "execution_count": 27
        }
      ]
    },
    {
      "cell_type": "markdown",
      "source": [
        "### Creating a range of tensors and tensors-like"
      ],
      "metadata": {
        "id": "d8hLsoCG_9AG"
      }
    },
    {
      "cell_type": "code",
      "source": [
        "# Use torch.range() -> Depricated -> Use torch.arange()\n",
        "one_to_ten = torch.arange(start=1, end=11, step=1)\n",
        "print(one_to_ten)\n",
        "\n",
        "# Creating tensors like\n",
        "tens_zeroes = torch.zeros_like(input=one_to_ten)\n",
        "print(tens_zeroes)\n",
        "\n",
        "tens_ones = torch.ones_like(input=one_to_ten)\n",
        "print(tens_ones)\n",
        "\n",
        "tens_rand = torch.rand_like(input=one_to_ten.float())\n",
        "print(tens_rand)"
      ],
      "metadata": {
        "colab": {
          "base_uri": "https://localhost:8080/"
        },
        "id": "OEsr1RjtAOFj",
        "outputId": "0d9bd31a-573f-460c-c0a9-c7548ecf19e2"
      },
      "execution_count": 28,
      "outputs": [
        {
          "output_type": "stream",
          "name": "stdout",
          "text": [
            "tensor([ 1,  2,  3,  4,  5,  6,  7,  8,  9, 10])\n",
            "tensor([0, 0, 0, 0, 0, 0, 0, 0, 0, 0])\n",
            "tensor([1, 1, 1, 1, 1, 1, 1, 1, 1, 1])\n",
            "tensor([0.8353, 0.4836, 0.6017, 0.9326, 0.2709, 0.1934, 0.5641, 0.6609, 0.7638,\n",
            "        0.2068])\n"
          ]
        }
      ]
    },
    {
      "cell_type": "markdown",
      "source": [
        "1:56:26  - https://www.youtube.com/watch?v=LyJtbe__2i0&t=1h56m24s"
      ],
      "metadata": {
        "id": "O7s-bkNFAS4j"
      }
    },
    {
      "cell_type": "markdown",
      "source": [
        "### Tensor datatypes\n",
        "\n",
        "**Note:** Tensor datatypes is one of the 3 big errors you'll encounter.\n",
        "1. Tensors not right datatype\n",
        "2. Tensors not right shape\n",
        "3. Tensors not on the right device"
      ],
      "metadata": {
        "id": "IDkgrNo-Dsqr"
      }
    },
    {
      "cell_type": "code",
      "source": [
        "# Float 32 tensor\n",
        "float_32_tensor = torch.tensor([3.0, 6.0, 9.0],\n",
        "                               dtype=None, # What datatype is the tensor (e.g. float32 or float 16)\n",
        "                               device=None, # What device is the tensor on. Default is \"cpu\", can change to \"cuda\"\n",
        "                               requires_grad=False) # Whether or not to track gradients of tensors\n",
        "float_32_tensor.dtype"
      ],
      "metadata": {
        "colab": {
          "base_uri": "https://localhost:8080/"
        },
        "id": "IcvQJxnqkUfE",
        "outputId": "527b22c9-1c13-4b30-80be-1a7d1c42db6b"
      },
      "execution_count": 29,
      "outputs": [
        {
          "output_type": "execute_result",
          "data": {
            "text/plain": [
              "torch.float32"
            ]
          },
          "metadata": {},
          "execution_count": 29
        }
      ]
    },
    {
      "cell_type": "code",
      "source": [
        "float_16_tensor = float_32_tensor.type(torch.float16)\n",
        "float_16_tensor"
      ],
      "metadata": {
        "colab": {
          "base_uri": "https://localhost:8080/"
        },
        "id": "g5lwYwW_kdFn",
        "outputId": "ebf9ee55-333b-4390-dbea-881d8bf0a9bb"
      },
      "execution_count": 30,
      "outputs": [
        {
          "output_type": "execute_result",
          "data": {
            "text/plain": [
              "tensor([3., 6., 9.], dtype=torch.float16)"
            ]
          },
          "metadata": {},
          "execution_count": 30
        }
      ]
    },
    {
      "cell_type": "code",
      "source": [
        "(float_16_tensor * float_32_tensor).dtype"
      ],
      "metadata": {
        "colab": {
          "base_uri": "https://localhost:8080/"
        },
        "id": "VOTmAIE0wqzB",
        "outputId": "b07da722-e2a0-4a4d-d3d2-0f288c930a93"
      },
      "execution_count": 31,
      "outputs": [
        {
          "output_type": "execute_result",
          "data": {
            "text/plain": [
              "torch.float32"
            ]
          },
          "metadata": {},
          "execution_count": 31
        }
      ]
    },
    {
      "cell_type": "code",
      "source": [
        "int_32_tensor = torch.tensor([3, 6, 9], dtype=torch.int32)\n",
        "int_32_tensor"
      ],
      "metadata": {
        "colab": {
          "base_uri": "https://localhost:8080/"
        },
        "id": "k4ss2lskwemt",
        "outputId": "f721dcac-8b3c-412e-afeb-232d59b50cde"
      },
      "execution_count": 32,
      "outputs": [
        {
          "output_type": "execute_result",
          "data": {
            "text/plain": [
              "tensor([3, 6, 9], dtype=torch.int32)"
            ]
          },
          "metadata": {},
          "execution_count": 32
        }
      ]
    },
    {
      "cell_type": "code",
      "source": [
        "int_32_tensor * float_32_tensor"
      ],
      "metadata": {
        "colab": {
          "base_uri": "https://localhost:8080/"
        },
        "id": "eSa0s5FjxEv0",
        "outputId": "44ab2690-0bf7-45ae-927c-5d0eeff95dbb"
      },
      "execution_count": 33,
      "outputs": [
        {
          "output_type": "execute_result",
          "data": {
            "text/plain": [
              "tensor([ 9., 36., 81.])"
            ]
          },
          "metadata": {},
          "execution_count": 33
        }
      ]
    },
    {
      "cell_type": "markdown",
      "source": [
        "### Getting information from tensors (tensor attributes)\n",
        "\n",
        "1. Tensors not right datatype - to get datatype from a tensor, can use `tensor.dtype`\n",
        "2. Tensors not right shape - to get shape from a tensor, can use `tensor.shape`\n",
        "3. Tensors not on the right device - to get device from a tensor, can use `tensor.device`"
      ],
      "metadata": {
        "id": "BjbId30axIwI"
      }
    },
    {
      "cell_type": "code",
      "source": [
        "# Create a tensor\n",
        "some_tensor = torch.rand(3, 4) #, device=\"cuda\")\n",
        "print(some_tensor)\n",
        "\n",
        "# Find out details about some tensor\n",
        "print(f\"Datatype of tensor: {some_tensor.dtype}\")\n",
        "print(f\"Shape of tensor: {some_tensor.shape}\")\n",
        "print(f\"Device of tensor: {some_tensor.device}\")\n",
        "some_tensor.shape, some_tensor.size, some_tensor.size()"
      ],
      "metadata": {
        "colab": {
          "base_uri": "https://localhost:8080/"
        },
        "id": "E2AYpHpTx4a7",
        "outputId": "e9a6e262-a474-426f-e249-82ee6d36a6d5"
      },
      "execution_count": 34,
      "outputs": [
        {
          "output_type": "stream",
          "name": "stdout",
          "text": [
            "tensor([[0.2218, 0.1332, 0.6608, 0.3596],\n",
            "        [0.5916, 0.3246, 0.8337, 0.1040],\n",
            "        [0.1032, 0.1565, 0.3196, 0.2512]])\n",
            "Datatype of tensor: torch.float32\n",
            "Shape of tensor: torch.Size([3, 4])\n",
            "Device of tensor: cpu\n"
          ]
        },
        {
          "output_type": "execute_result",
          "data": {
            "text/plain": [
              "(torch.Size([3, 4]), <function Tensor.size>, torch.Size([3, 4]))"
            ]
          },
          "metadata": {},
          "execution_count": 34
        }
      ]
    },
    {
      "cell_type": "markdown",
      "source": [
        "### Manipulating Tensors (tensor operations)\n",
        "\n",
        "Tensor operations include:\n",
        "* Addition\n",
        "* Subtraction\n",
        "* Multiplication (element-wise)\n",
        "* Division\n",
        "* Matrix Multiplication"
      ],
      "metadata": {
        "id": "mPLdVucix-BT"
      }
    },
    {
      "cell_type": "code",
      "source": [
        "# Addition\n",
        "tensor = torch.tensor([1, 2, 3])\n",
        "tensor + 10"
      ],
      "metadata": {
        "colab": {
          "base_uri": "https://localhost:8080/"
        },
        "id": "-aRUomDHz83t",
        "outputId": "fd285d1d-365c-4680-ed42-89be5dfcb23d"
      },
      "execution_count": 35,
      "outputs": [
        {
          "output_type": "execute_result",
          "data": {
            "text/plain": [
              "tensor([11, 12, 13])"
            ]
          },
          "metadata": {},
          "execution_count": 35
        }
      ]
    },
    {
      "cell_type": "code",
      "source": [
        "# Multiplication\n",
        "tensor * 10"
      ],
      "metadata": {
        "colab": {
          "base_uri": "https://localhost:8080/"
        },
        "id": "gPhS3Rqn0Jj4",
        "outputId": "c13cf959-7b0b-45fc-b260-d537f4aa23ef"
      },
      "execution_count": 36,
      "outputs": [
        {
          "output_type": "execute_result",
          "data": {
            "text/plain": [
              "tensor([10, 20, 30])"
            ]
          },
          "metadata": {},
          "execution_count": 36
        }
      ]
    },
    {
      "cell_type": "code",
      "source": [
        "# Subtraction\n",
        "tensor - 10"
      ],
      "metadata": {
        "colab": {
          "base_uri": "https://localhost:8080/"
        },
        "id": "P7ahTO950cFy",
        "outputId": "a5981d25-98c7-4309-d0e3-356035f71681"
      },
      "execution_count": 37,
      "outputs": [
        {
          "output_type": "execute_result",
          "data": {
            "text/plain": [
              "tensor([-9, -8, -7])"
            ]
          },
          "metadata": {},
          "execution_count": 37
        }
      ]
    },
    {
      "cell_type": "code",
      "source": [
        "# PyTorch in-built functions\n",
        "torch.mul(tensor, 10)\n",
        "torch.add(tensor, 10)\n",
        "torch.sub(tensor, 10)"
      ],
      "metadata": {
        "colab": {
          "base_uri": "https://localhost:8080/"
        },
        "id": "9bH89oNi0luN",
        "outputId": "eba2db2c-b655-49c3-ddbf-ad13f120f057"
      },
      "execution_count": 38,
      "outputs": [
        {
          "output_type": "execute_result",
          "data": {
            "text/plain": [
              "tensor([-9, -8, -7])"
            ]
          },
          "metadata": {},
          "execution_count": 38
        }
      ]
    },
    {
      "cell_type": "markdown",
      "source": [
        "### Matrix Multiplication\n",
        "\n",
        "Two main ways to perform multiplication in NN and DL\n",
        "\n",
        "1. Element-wise Multiplication\n",
        "2. Matrix Multiplication (dot product) - Use `torch.matmul()` over `for` loops for vectorized optimization speed\n",
        "\n",
        "There are two main rules for matrix multiplication\n",
        "1. The **inner Dimensions** must match:\n",
        "* `(3, 2) @ (3, 2)` won't work\n",
        "* `(2, 3) @ (3, 2)` will work\n",
        "* `(3, 2) @ (2, 3)` will work\n",
        "2. The resulting matrix has the shape of the **outer dimensions**\n",
        "* `(2, 3) @ (3, 2)` -> `(2, 2)`\n",
        "* `(3, 2) @ (2, 3)` -> `(3, 3)`"
      ],
      "metadata": {
        "id": "-z9h5idS0to6"
      }
    },
    {
      "cell_type": "code",
      "source": [
        "# Element-wise\n",
        "print(tensor, \"*\",  tensor, \"=\", tensor * tensor)\n",
        "\n",
        "# Matrix\n",
        "torch.matmul(tensor, tensor)"
      ],
      "metadata": {
        "colab": {
          "base_uri": "https://localhost:8080/"
        },
        "id": "9jz86ivS1Zi-",
        "outputId": "cb445334-3836-4906-ccdc-6b99b9a7986a"
      },
      "execution_count": 39,
      "outputs": [
        {
          "output_type": "stream",
          "name": "stdout",
          "text": [
            "tensor([1, 2, 3]) * tensor([1, 2, 3]) = tensor([1, 4, 9])\n"
          ]
        },
        {
          "output_type": "execute_result",
          "data": {
            "text/plain": [
              "tensor(14)"
            ]
          },
          "metadata": {},
          "execution_count": 39
        }
      ]
    },
    {
      "cell_type": "code",
      "source": [
        "tensor @ tensor"
      ],
      "metadata": {
        "colab": {
          "base_uri": "https://localhost:8080/"
        },
        "id": "vz7ksKtz1_Ae",
        "outputId": "a080eabe-40b3-4fc9-d23a-36a0b3017b3f"
      },
      "execution_count": 40,
      "outputs": [
        {
          "output_type": "execute_result",
          "data": {
            "text/plain": [
              "tensor(14)"
            ]
          },
          "metadata": {},
          "execution_count": 40
        }
      ]
    },
    {
      "cell_type": "markdown",
      "source": [
        "### Dealing with tensor shape errors\n",
        "A **transpose** the dimensionsaxes of the given tensor"
      ],
      "metadata": {
        "id": "pTo6PR9i2r4U"
      }
    },
    {
      "cell_type": "code",
      "source": [
        "# Shapes for matrix multiplication\n",
        "tensor_A = torch.tensor([[1, 2],\n",
        "                         [3, 4],\n",
        "                         [5, 6]])\n",
        "\n",
        "tensor_B = torch.tensor([[7, 10],\n",
        "                         [8, 11],\n",
        "                         [9, 12]])\n",
        "\n",
        "# torch.mm(tensor_A, tensor_B) # torch.mm is the same as torch.matmul (it's an alias for writing less code)\n",
        "\n",
        "# ERROR!!!! : torch.matmul(tensor_A, tensor_B)\n",
        "\n",
        "tensor_B.T # Transpose\n",
        "torch.mm(tensor_A, tensor_B.T), torch.matmul(tensor_A, tensor_B.T).shape"
      ],
      "metadata": {
        "colab": {
          "base_uri": "https://localhost:8080/"
        },
        "id": "JStlQGzn6BFv",
        "outputId": "c98782e3-1a3f-4bca-93a2-d62d1685e713"
      },
      "execution_count": 41,
      "outputs": [
        {
          "output_type": "execute_result",
          "data": {
            "text/plain": [
              "(tensor([[ 27,  30,  33],\n",
              "         [ 61,  68,  75],\n",
              "         [ 95, 106, 117]]),\n",
              " torch.Size([3, 3]))"
            ]
          },
          "metadata": {},
          "execution_count": 41
        }
      ]
    },
    {
      "cell_type": "markdown",
      "source": [
        "## Finding the min, max, min, sum, etc. (tensor aggregation)"
      ],
      "metadata": {
        "id": "BeUduhzO6Y0N"
      }
    },
    {
      "cell_type": "code",
      "source": [
        "x = torch.arange(0, 100, 10)\n",
        "x"
      ],
      "metadata": {
        "colab": {
          "base_uri": "https://localhost:8080/"
        },
        "id": "U9kpk08E-4V9",
        "outputId": "1a9ca8a0-d23f-479b-fe3b-30e14a5f9890"
      },
      "execution_count": 42,
      "outputs": [
        {
          "output_type": "execute_result",
          "data": {
            "text/plain": [
              "tensor([ 0, 10, 20, 30, 40, 50, 60, 70, 80, 90])"
            ]
          },
          "metadata": {},
          "execution_count": 42
        }
      ]
    },
    {
      "cell_type": "code",
      "source": [
        "print(torch.min(x), x.min())\n",
        "print(torch.max(x), x.max())\n",
        "print(torch.mean(x.type(torch.float32)), x.type(torch.float32).mean()) # Can't take datatype long\n",
        "print(torch.sum(x), x.sum())"
      ],
      "metadata": {
        "colab": {
          "base_uri": "https://localhost:8080/"
        },
        "id": "AP0u5AQB-8lP",
        "outputId": "8e3db5b8-4f1c-4a30-bb3b-dcb31ccc79dc"
      },
      "execution_count": 43,
      "outputs": [
        {
          "output_type": "stream",
          "name": "stdout",
          "text": [
            "tensor(0) tensor(0)\n",
            "tensor(90) tensor(90)\n",
            "tensor(45.) tensor(45.)\n",
            "tensor(450) tensor(450)\n"
          ]
        }
      ]
    },
    {
      "cell_type": "markdown",
      "source": [
        "## Finding the positional min and max\n",
        " - `argmin()`\n",
        " - `argmax()`"
      ],
      "metadata": {
        "id": "d4rpK5l1_CyH"
      }
    },
    {
      "cell_type": "code",
      "source": [
        "print(f\"Positional Min: {torch.argmin(x), x.argmin()}\")\n",
        "print(f\"Min: {x[torch.argmin(x)], x.min()}\")\n",
        "print(f\"Positional Max : {torch.argmax(x), x.argmax()}\")\n",
        "print(f\"Max : {x[torch.argmax(x)], x.max()}\")"
      ],
      "metadata": {
        "colab": {
          "base_uri": "https://localhost:8080/"
        },
        "id": "ZSilfql--_Bj",
        "outputId": "49fc7e8e-51da-4fb9-8f71-5e485b57c15b"
      },
      "execution_count": 44,
      "outputs": [
        {
          "output_type": "stream",
          "name": "stdout",
          "text": [
            "Positional Min: (tensor(0), tensor(0))\n",
            "Min: (tensor(0), tensor(0))\n",
            "Positional Max : (tensor(9), tensor(9))\n",
            "Max : (tensor(90), tensor(90))\n"
          ]
        }
      ]
    },
    {
      "cell_type": "markdown",
      "source": [
        "## Reshaping, stacking, squeezing, and unsqueezing tensor\n",
        "\n",
        "* Reshaping - Reshapes an input tensor to a defined shape\n",
        "* View - Return a view of an input tensor of certain shape but keep the same memory as the original tensor\n",
        "* Stacking - Combine multiple tensors on top of each other (vstack) or side by side (hstack)\n",
        "* Squeeze - Removes all `1` dimensions from a tensor\n",
        "* Unsqueeze - Add a `1` dimension to a target tensor\n",
        "* Permute - Return a view of the input with dimensions permuted (swapped) in a certain way"
      ],
      "metadata": {
        "id": "1Otskf66AKcr"
      }
    },
    {
      "cell_type": "code",
      "source": [
        "x = torch.arange(1., 11.)\n",
        "x, x.shape"
      ],
      "metadata": {
        "colab": {
          "base_uri": "https://localhost:8080/"
        },
        "id": "KG9Hp3gYCMWL",
        "outputId": "154777bb-fcf6-43c4-ca28-4caa89ab1500"
      },
      "execution_count": 45,
      "outputs": [
        {
          "output_type": "execute_result",
          "data": {
            "text/plain": [
              "(tensor([ 1.,  2.,  3.,  4.,  5.,  6.,  7.,  8.,  9., 10.]), torch.Size([10]))"
            ]
          },
          "metadata": {},
          "execution_count": 45
        }
      ]
    },
    {
      "cell_type": "code",
      "source": [
        "x_reshaped = x.reshape(2, 5)\n",
        "x_reshaped, x_reshaped.shape"
      ],
      "metadata": {
        "colab": {
          "base_uri": "https://localhost:8080/"
        },
        "id": "cfQNpwLWChmT",
        "outputId": "25677b95-4cff-4d20-e051-f552b1c0d758"
      },
      "execution_count": 46,
      "outputs": [
        {
          "output_type": "execute_result",
          "data": {
            "text/plain": [
              "(tensor([[ 1.,  2.,  3.,  4.,  5.],\n",
              "         [ 6.,  7.,  8.,  9., 10.]]),\n",
              " torch.Size([2, 5]))"
            ]
          },
          "metadata": {},
          "execution_count": 46
        }
      ]
    },
    {
      "cell_type": "code",
      "source": [
        "x = torch.arange(1., 10.)\n",
        "# Change the view\n",
        "z = x.view(1, 9)\n",
        "z, z.shape"
      ],
      "metadata": {
        "colab": {
          "base_uri": "https://localhost:8080/"
        },
        "id": "yYM4QD59CnwK",
        "outputId": "f61ea429-28a6-4fcc-e088-fffb73a80c8f"
      },
      "execution_count": 47,
      "outputs": [
        {
          "output_type": "execute_result",
          "data": {
            "text/plain": [
              "(tensor([[1., 2., 3., 4., 5., 6., 7., 8., 9.]]), torch.Size([1, 9]))"
            ]
          },
          "metadata": {},
          "execution_count": 47
        }
      ]
    },
    {
      "cell_type": "code",
      "source": [
        "# Changing z changes x (because a view of a tensor shares the same memory as the original input)\n",
        "z[:, 0] = 5\n",
        "z, x"
      ],
      "metadata": {
        "colab": {
          "base_uri": "https://localhost:8080/"
        },
        "id": "QRoRdchQF6_C",
        "outputId": "1c4a0060-f1a6-483f-d86c-f54021bd847a"
      },
      "execution_count": 48,
      "outputs": [
        {
          "output_type": "execute_result",
          "data": {
            "text/plain": [
              "(tensor([[5., 2., 3., 4., 5., 6., 7., 8., 9.]]),\n",
              " tensor([5., 2., 3., 4., 5., 6., 7., 8., 9.]))"
            ]
          },
          "metadata": {},
          "execution_count": 48
        }
      ]
    },
    {
      "cell_type": "code",
      "source": [
        "# Stack tensors on top of each other\n",
        "x_stackedv = torch.stack([x, x, x, x], dim=0)\n",
        "x_stackedh = torch.stack([x, x, x, x], dim=1)\n",
        "x_stackedv, x_stackedv.shape, x_stackedh, x_stackedh.shape"
      ],
      "metadata": {
        "colab": {
          "base_uri": "https://localhost:8080/"
        },
        "id": "Iwn7NjihGD-y",
        "outputId": "790eea66-309c-47f1-999c-b8f48ee24901"
      },
      "execution_count": 49,
      "outputs": [
        {
          "output_type": "execute_result",
          "data": {
            "text/plain": [
              "(tensor([[5., 2., 3., 4., 5., 6., 7., 8., 9.],\n",
              "         [5., 2., 3., 4., 5., 6., 7., 8., 9.],\n",
              "         [5., 2., 3., 4., 5., 6., 7., 8., 9.],\n",
              "         [5., 2., 3., 4., 5., 6., 7., 8., 9.]]),\n",
              " torch.Size([4, 9]),\n",
              " tensor([[5., 5., 5., 5.],\n",
              "         [2., 2., 2., 2.],\n",
              "         [3., 3., 3., 3.],\n",
              "         [4., 4., 4., 4.],\n",
              "         [5., 5., 5., 5.],\n",
              "         [6., 6., 6., 6.],\n",
              "         [7., 7., 7., 7.],\n",
              "         [8., 8., 8., 8.],\n",
              "         [9., 9., 9., 9.]]),\n",
              " torch.Size([9, 4]))"
            ]
          },
          "metadata": {},
          "execution_count": 49
        }
      ]
    },
    {
      "cell_type": "code",
      "source": [
        "# Squeeze and Unsqueeze\n",
        "print(f\"Previous tensor: {x_reshaped}\")\n",
        "print(f\"Previous shape: {x_reshaped.shape}\")\n",
        "print(x_reshaped.unsqueeze(dim=1).unsqueeze(dim=0))\n",
        "print(x_reshaped.unsqueeze(dim=0).unsqueeze(dim=1))\n",
        "print(x_reshaped.unsqueeze(dim=0).unsqueeze(dim=1).squeeze())"
      ],
      "metadata": {
        "colab": {
          "base_uri": "https://localhost:8080/"
        },
        "id": "M5xZsoncGZ0o",
        "outputId": "be9278c7-e31e-488b-899e-00478424c621"
      },
      "execution_count": 50,
      "outputs": [
        {
          "output_type": "stream",
          "name": "stdout",
          "text": [
            "Previous tensor: tensor([[ 1.,  2.,  3.,  4.,  5.],\n",
            "        [ 6.,  7.,  8.,  9., 10.]])\n",
            "Previous shape: torch.Size([2, 5])\n",
            "tensor([[[[ 1.,  2.,  3.,  4.,  5.]],\n",
            "\n",
            "         [[ 6.,  7.,  8.,  9., 10.]]]])\n",
            "tensor([[[[ 1.,  2.,  3.,  4.,  5.],\n",
            "          [ 6.,  7.,  8.,  9., 10.]]]])\n",
            "tensor([[ 1.,  2.,  3.,  4.,  5.],\n",
            "        [ 6.,  7.,  8.,  9., 10.]])\n"
          ]
        }
      ]
    },
    {
      "cell_type": "code",
      "source": [
        "# torch.squeeze - removes all single dimensions\n",
        "x_reshaped = x.reshape(1, 9)\n",
        "x_squeezed = x_reshaped.squeeze()\n",
        "x_reshaped, x_reshaped.shape, x_squeezed, x_squeezed.shape"
      ],
      "metadata": {
        "colab": {
          "base_uri": "https://localhost:8080/"
        },
        "id": "0aN08ZrXHPma",
        "outputId": "bbbf9ad3-3db5-4192-95b2-3281e60a4058"
      },
      "execution_count": 51,
      "outputs": [
        {
          "output_type": "execute_result",
          "data": {
            "text/plain": [
              "(tensor([[5., 2., 3., 4., 5., 6., 7., 8., 9.]]),\n",
              " torch.Size([1, 9]),\n",
              " tensor([5., 2., 3., 4., 5., 6., 7., 8., 9.]),\n",
              " torch.Size([9]))"
            ]
          },
          "metadata": {},
          "execution_count": 51
        }
      ]
    },
    {
      "cell_type": "code",
      "source": [
        "# torch.unsqueeze() - adds a single dimension to a target tensor  at a specific dim (dimension)\n",
        "print(f\"Previous tensor: {x_squeezed}\")\n",
        "print(f\"Previous shape: {x_squeezed.shape}\")\n",
        "# Adds an extra\n",
        "print(f\"New tensor: {x_squeezed.unsqueeze(dim=0)}\")\n",
        "print(f\"New shape: {x_squeezed.unsqueeze(dim=0).shape}\")\n",
        "print(f\"New tensor: {x_squeezed.unsqueeze(dim=1)}\")\n",
        "print(f\"New shape: {x_squeezed.unsqueeze(dim=1).shape}\")"
      ],
      "metadata": {
        "colab": {
          "base_uri": "https://localhost:8080/"
        },
        "outputId": "8d3dfa5d-f59a-42ee-bc50-3c27612b7459",
        "id": "qgjNC18nJJb2"
      },
      "execution_count": 52,
      "outputs": [
        {
          "output_type": "stream",
          "name": "stdout",
          "text": [
            "Previous tensor: tensor([5., 2., 3., 4., 5., 6., 7., 8., 9.])\n",
            "Previous shape: torch.Size([9])\n",
            "New tensor: tensor([[5., 2., 3., 4., 5., 6., 7., 8., 9.]])\n",
            "New shape: torch.Size([1, 9])\n",
            "New tensor: tensor([[5.],\n",
            "        [2.],\n",
            "        [3.],\n",
            "        [4.],\n",
            "        [5.],\n",
            "        [6.],\n",
            "        [7.],\n",
            "        [8.],\n",
            "        [9.]])\n",
            "New shape: torch.Size([9, 1])\n"
          ]
        }
      ]
    },
    {
      "cell_type": "code",
      "source": [
        "# torch.permute - rearranges the dimensions of a target tensor in a specified order\n",
        "tensor = torch.randn(2,3,5)\n",
        "print(f\"Tensor: {tensor}\")\n",
        "print(f\"Tensor Shape: {tensor.shape}\")\n",
        "\n",
        "new_tensor = tensor.permute(2, 0, 1)\n",
        "print(f\"\\nNew Tensor: {new_tensor}\")\n",
        "print(f\"New Tensor Shape: {new_tensor.shape}\")\n",
        "print(f\"Floop the Tensor: {x_reshaped.permute(1, 0)}\")\n",
        "\n",
        "# Images\n",
        "x_original = torch.rand(size=(224, 224, 3)) # [height, width, color_channels]\n",
        "x_permuted = x_original.permute(2, 0, 1) # [color_channels, height, width]\n",
        "print(f\"\\nImages\\nOriginal shape: {x_original.shape}\")\n",
        "print(f\"Permuted shape: {x_permuted.shape}\")"
      ],
      "metadata": {
        "colab": {
          "base_uri": "https://localhost:8080/"
        },
        "id": "dboKspUqJB5X",
        "outputId": "6fc42da0-8a50-47a4-b65f-0a7f2c4a5f04"
      },
      "execution_count": 53,
      "outputs": [
        {
          "output_type": "stream",
          "name": "stdout",
          "text": [
            "Tensor: tensor([[[-0.3983,  0.7081, -0.3357, -0.7670,  0.2310],\n",
            "         [ 0.5862,  1.0539,  0.2348, -1.0195, -0.6762],\n",
            "         [ 1.0192, -1.1358,  1.8083,  1.0717,  1.0052]],\n",
            "\n",
            "        [[ 0.2603, -0.7928,  0.9412, -0.8172,  1.6802],\n",
            "         [-0.3237, -1.2111, -0.7030, -0.2812, -0.8508],\n",
            "         [ 1.3521,  0.4953,  0.6987,  0.7350, -2.4614]]])\n",
            "Tensor Shape: torch.Size([2, 3, 5])\n",
            "\n",
            "New Tensor: tensor([[[-0.3983,  0.5862,  1.0192],\n",
            "         [ 0.2603, -0.3237,  1.3521]],\n",
            "\n",
            "        [[ 0.7081,  1.0539, -1.1358],\n",
            "         [-0.7928, -1.2111,  0.4953]],\n",
            "\n",
            "        [[-0.3357,  0.2348,  1.8083],\n",
            "         [ 0.9412, -0.7030,  0.6987]],\n",
            "\n",
            "        [[-0.7670, -1.0195,  1.0717],\n",
            "         [-0.8172, -0.2812,  0.7350]],\n",
            "\n",
            "        [[ 0.2310, -0.6762,  1.0052],\n",
            "         [ 1.6802, -0.8508, -2.4614]]])\n",
            "New Tensor Shape: torch.Size([5, 2, 3])\n",
            "Floop the Tensor: tensor([[5.],\n",
            "        [2.],\n",
            "        [3.],\n",
            "        [4.],\n",
            "        [5.],\n",
            "        [6.],\n",
            "        [7.],\n",
            "        [8.],\n",
            "        [9.]])\n",
            "\n",
            "Images\n",
            "Original shape: torch.Size([224, 224, 3])\n",
            "Permuted shape: torch.Size([3, 224, 224])\n"
          ]
        }
      ]
    },
    {
      "cell_type": "code",
      "source": [
        "x_original[0, 0, 0] = 83457\n",
        "x_original[0, 0, 0], x_permuted[0, 0, 0], x_original[0, 0, 1], x_permuted[1, 0, 0]"
      ],
      "metadata": {
        "colab": {
          "base_uri": "https://localhost:8080/"
        },
        "id": "ay72O6loLR2J",
        "outputId": "3808d162-1e69-41f5-fd09-e75a9ad3955b"
      },
      "execution_count": 54,
      "outputs": [
        {
          "output_type": "execute_result",
          "data": {
            "text/plain": [
              "(tensor(83457.), tensor(83457.), tensor(0.3309), tensor(0.3309))"
            ]
          },
          "metadata": {},
          "execution_count": 54
        }
      ]
    },
    {
      "cell_type": "markdown",
      "source": [
        " ## Indexing\n",
        "\n",
        " Indexing in PyTorch is similar to in Numpy"
      ],
      "metadata": {
        "id": "VhsUlg9LOKdQ"
      }
    },
    {
      "cell_type": "code",
      "source": [
        "x = torch.arange(1, 10).reshape(1, 3, 3)\n",
        "x, x.shape"
      ],
      "metadata": {
        "colab": {
          "base_uri": "https://localhost:8080/"
        },
        "id": "6RECtDjcVIM3",
        "outputId": "4760313f-403d-4e02-b7e3-6f185f383c2e"
      },
      "execution_count": 55,
      "outputs": [
        {
          "output_type": "execute_result",
          "data": {
            "text/plain": [
              "(tensor([[[1, 2, 3],\n",
              "          [4, 5, 6],\n",
              "          [7, 8, 9]]]),\n",
              " torch.Size([1, 3, 3]))"
            ]
          },
          "metadata": {},
          "execution_count": 55
        }
      ]
    },
    {
      "cell_type": "code",
      "source": [
        "x[0], x[0][0], x[0, 0]"
      ],
      "metadata": {
        "colab": {
          "base_uri": "https://localhost:8080/"
        },
        "id": "c92GxJ8rVNQ2",
        "outputId": "526bb111-7de9-4263-d57d-a5c7553d1c04"
      },
      "execution_count": 56,
      "outputs": [
        {
          "output_type": "execute_result",
          "data": {
            "text/plain": [
              "(tensor([[1, 2, 3],\n",
              "         [4, 5, 6],\n",
              "         [7, 8, 9]]),\n",
              " tensor([1, 2, 3]),\n",
              " tensor([1, 2, 3]))"
            ]
          },
          "metadata": {},
          "execution_count": 56
        }
      ]
    },
    {
      "cell_type": "code",
      "source": [
        "np.array(x[0])[0, 0], np.array(x[0])[0][0]"
      ],
      "metadata": {
        "colab": {
          "base_uri": "https://localhost:8080/"
        },
        "id": "Qj36FEdRVd7A",
        "outputId": "3506720a-1b31-4137-9601-97bc194ca484"
      },
      "execution_count": 57,
      "outputs": [
        {
          "output_type": "execute_result",
          "data": {
            "text/plain": [
              "(np.int64(1), np.int64(1))"
            ]
          },
          "metadata": {},
          "execution_count": 57
        }
      ]
    },
    {
      "cell_type": "code",
      "source": [
        "np.array(x)[0, 0, 1], np.array(x)[0][0][1]"
      ],
      "metadata": {
        "colab": {
          "base_uri": "https://localhost:8080/"
        },
        "id": "GTTeaFl7Vi1H",
        "outputId": "175ce16c-0f81-47fc-af11-87d1f597d3f6"
      },
      "execution_count": 58,
      "outputs": [
        {
          "output_type": "execute_result",
          "data": {
            "text/plain": [
              "(np.int64(2), np.int64(2))"
            ]
          },
          "metadata": {},
          "execution_count": 58
        }
      ]
    },
    {
      "cell_type": "markdown",
      "source": [
        "3:31:21 - https://www.youtube.com/watch?v=LyJtbe__2i0&t=3h31m21s"
      ],
      "metadata": {
        "id": "wwtZHbucWlpr"
      }
    },
    {
      "cell_type": "code",
      "source": [
        "# Use \":\" to get all of a target dimension\n",
        "x[:, :, 1], x[:, 1, 1], x[0, 1, 1], x[0, 0, :], x[0, 2, 2], x[0, :, 2]"
      ],
      "metadata": {
        "id": "bmMo9KnOa4OL",
        "colab": {
          "base_uri": "https://localhost:8080/"
        },
        "outputId": "05777088-92d5-4189-ff79-25d65e43fe39"
      },
      "execution_count": 59,
      "outputs": [
        {
          "output_type": "execute_result",
          "data": {
            "text/plain": [
              "(tensor([[2, 5, 8]]),\n",
              " tensor([5]),\n",
              " tensor(5),\n",
              " tensor([1, 2, 3]),\n",
              " tensor(9),\n",
              " tensor([3, 6, 9]))"
            ]
          },
          "metadata": {},
          "execution_count": 59
        }
      ]
    },
    {
      "cell_type": "markdown",
      "source": [
        "## PyTorch tensors & NumPy\n",
        "\n",
        "Popularity and interaction\n",
        "* Data in NumPy, want in PyTorch tensor -> `torch.from_numpy(ndarray)`\n",
        "    * Changing one **doesn't** affect the other. Makes a Copy\n",
        "* PyTorch tensor -> NumPy -> `torch.Tensor.numpy()`\n",
        "    * Changing one **does** affect the other"
      ],
      "metadata": {
        "id": "lbJDkJOd_bcy"
      }
    },
    {
      "cell_type": "code",
      "source": [
        "# Numpy array to tensor\n",
        "array = np.arange(1.0, 8.0)\n",
        "tensor = torch.from_numpy(array)\n",
        "array, tensor, array.dtype, tensor.dtype"
      ],
      "metadata": {
        "colab": {
          "base_uri": "https://localhost:8080/"
        },
        "id": "Ct3G8bpVA-uQ",
        "outputId": "cb9bd38a-8491-4d9d-8f20-cafe7bbe70b8"
      },
      "execution_count": 60,
      "outputs": [
        {
          "output_type": "execute_result",
          "data": {
            "text/plain": [
              "(array([1., 2., 3., 4., 5., 6., 7.]),\n",
              " tensor([1., 2., 3., 4., 5., 6., 7.], dtype=torch.float64),\n",
              " dtype('float64'),\n",
              " torch.float64)"
            ]
          },
          "metadata": {},
          "execution_count": 60
        }
      ]
    },
    {
      "cell_type": "code",
      "source": [
        "# Warning: different default dataype**\n",
        "torch.arange(1.0, 8.0).dtype"
      ],
      "metadata": {
        "colab": {
          "base_uri": "https://localhost:8080/"
        },
        "id": "eQQoHoUKBGBM",
        "outputId": "49b75685-3ff6-4dcc-a571-09f3acd40c65"
      },
      "execution_count": 61,
      "outputs": [
        {
          "output_type": "execute_result",
          "data": {
            "text/plain": [
              "torch.float32"
            ]
          },
          "metadata": {},
          "execution_count": 61
        }
      ]
    },
    {
      "cell_type": "code",
      "source": [
        "# Changing one doesn't affect the other\n",
        "array - array + 1\n",
        "array, tensor"
      ],
      "metadata": {
        "colab": {
          "base_uri": "https://localhost:8080/"
        },
        "id": "VAPO_xYkBc6X",
        "outputId": "9d9c542f-ccb4-4cc9-c7a2-8544b536bfba"
      },
      "execution_count": 62,
      "outputs": [
        {
          "output_type": "execute_result",
          "data": {
            "text/plain": [
              "(array([1., 2., 3., 4., 5., 6., 7.]),\n",
              " tensor([1., 2., 3., 4., 5., 6., 7.], dtype=torch.float64))"
            ]
          },
          "metadata": {},
          "execution_count": 62
        }
      ]
    },
    {
      "cell_type": "code",
      "source": [
        "# Tensor to NumPy array\n",
        "tensor = torch.ones(7)\n",
        "numpy_tensor = tensor.numpy()\n",
        "tensor, numpy_tensor, tensor.dtype, numpy_tensor.dtype"
      ],
      "metadata": {
        "colab": {
          "base_uri": "https://localhost:8080/"
        },
        "id": "1QiYezsvCCDT",
        "outputId": "915c06d1-437a-4131-a36e-467ce240b024"
      },
      "execution_count": 63,
      "outputs": [
        {
          "output_type": "execute_result",
          "data": {
            "text/plain": [
              "(tensor([1., 1., 1., 1., 1., 1., 1.]),\n",
              " array([1., 1., 1., 1., 1., 1., 1.], dtype=float32),\n",
              " torch.float32,\n",
              " dtype('float32'))"
            ]
          },
          "metadata": {},
          "execution_count": 63
        }
      ]
    },
    {
      "cell_type": "code",
      "source": [
        "# Changing tensor Changes the array\n",
        "tensor += 1\n",
        "tensor, numpy_tensor"
      ],
      "metadata": {
        "colab": {
          "base_uri": "https://localhost:8080/"
        },
        "id": "3Ks9oEn4CYFU",
        "outputId": "f1c3ff75-9231-4c09-f8df-564f67f3e62d"
      },
      "execution_count": 64,
      "outputs": [
        {
          "output_type": "execute_result",
          "data": {
            "text/plain": [
              "(tensor([2., 2., 2., 2., 2., 2., 2.]),\n",
              " array([2., 2., 2., 2., 2., 2., 2.], dtype=float32))"
            ]
          },
          "metadata": {},
          "execution_count": 64
        }
      ]
    },
    {
      "cell_type": "code",
      "source": [
        "numpy_tensor += 1\n",
        "tensor, numpy_tensor"
      ],
      "metadata": {
        "colab": {
          "base_uri": "https://localhost:8080/"
        },
        "id": "ZxGFvFeACalX",
        "outputId": "65c6c1a4-6488-4d5f-da3a-a75db9553ed0"
      },
      "execution_count": 65,
      "outputs": [
        {
          "output_type": "execute_result",
          "data": {
            "text/plain": [
              "(tensor([3., 3., 3., 3., 3., 3., 3.]),\n",
              " array([3., 3., 3., 3., 3., 3., 3.], dtype=float32))"
            ]
          },
          "metadata": {},
          "execution_count": 65
        }
      ]
    },
    {
      "cell_type": "markdown",
      "source": [
        "## PyTorch Reproducibility (Taking the random out of random)\n",
        "\n",
        "Brief NN Summary:\n",
        "\n",
        " `Start with random numbers -> tensor operations -> update random numbers to try and make them out of daya -> again -> again -> again -> ...`\n",
        "\n",
        "To reduce randomness in NN anfd PyTorch comes the concept of a **random seed**.\n",
        "\n",
        "Essentially what the random seed does is \"flavour\" the randomness."
      ],
      "metadata": {
        "id": "6Py4t-EOCsqu"
      }
    },
    {
      "cell_type": "code",
      "source": [
        "# Pseudorandom\n",
        "\n",
        "random_tensor_A = torch.rand(3, 4)\n",
        "random_tensor_B = torch.rand(3, 4)\n",
        "\n",
        "print(random_tensor_A)\n",
        "print(random_tensor_B)\n",
        "print(random_tensor_A == random_tensor_B)"
      ],
      "metadata": {
        "colab": {
          "base_uri": "https://localhost:8080/"
        },
        "id": "n7wq9hfuE2lt",
        "outputId": "dde06e2e-25dc-41ff-812b-1c2ef51a976f"
      },
      "execution_count": 66,
      "outputs": [
        {
          "output_type": "stream",
          "name": "stdout",
          "text": [
            "tensor([[0.3659, 0.9994, 0.9359, 0.2054],\n",
            "        [0.2839, 0.7332, 0.0950, 0.5987],\n",
            "        [0.0668, 0.7772, 0.0035, 0.3130]])\n",
            "tensor([[0.5770, 0.6730, 0.7942, 0.0403],\n",
            "        [0.7620, 0.6988, 0.9629, 0.7225],\n",
            "        [0.8128, 0.7970, 0.8744, 0.5077]])\n",
            "tensor([[False, False, False, False],\n",
            "        [False, False, False, False],\n",
            "        [False, False, False, False]])\n"
          ]
        }
      ]
    },
    {
      "cell_type": "code",
      "source": [
        "# Random, but reproducible\n",
        "# Set random seed\n",
        "RANDOM_SEED = 42\n",
        "torch.manual_seed(RANDOM_SEED) # Manual seed only works for 1 block each time\n",
        "random_tensor_C = torch.rand(3, 4)\n",
        "torch.manual_seed(RANDOM_SEED)\n",
        "random_tensor_D = torch.rand(3, 4)\n",
        "\n",
        "print(random_tensor_C)\n",
        "print(random_tensor_D)\n",
        "print(random_tensor_C == random_tensor_D)"
      ],
      "metadata": {
        "colab": {
          "base_uri": "https://localhost:8080/"
        },
        "id": "3a6hxRksE8TP",
        "outputId": "eaeb2c4c-7c80-44d8-b6ac-2dbed0eaa5a7"
      },
      "execution_count": 67,
      "outputs": [
        {
          "output_type": "stream",
          "name": "stdout",
          "text": [
            "tensor([[0.8823, 0.9150, 0.3829, 0.9593],\n",
            "        [0.3904, 0.6009, 0.2566, 0.7936],\n",
            "        [0.9408, 0.1332, 0.9346, 0.5936]])\n",
            "tensor([[0.8823, 0.9150, 0.3829, 0.9593],\n",
            "        [0.3904, 0.6009, 0.2566, 0.7936],\n",
            "        [0.9408, 0.1332, 0.9346, 0.5936]])\n",
            "tensor([[True, True, True, True],\n",
            "        [True, True, True, True],\n",
            "        [True, True, True, True]])\n"
          ]
        }
      ]
    },
    {
      "cell_type": "markdown",
      "source": [
        "## Accessing a GPU in PyTorch (Faster Computations)\n",
        "CUDA + NVIDIA + PyTorch <3"
      ],
      "metadata": {
        "id": "E8tKWjoNFo-O"
      }
    },
    {
      "cell_type": "markdown",
      "source": [
        "### Getting a GPU\n",
        "\n",
        "1. Get a cloud gpu from Google Colab for free (Or upgrade)\n",
        "2. Use your own GPU - takes setup up and purchasing one\n",
        "3. Use cloud computing - GCP, AWS, Azure\n",
        "\n",
        "For 2, 3 PyTorch + GPU dirver (CUDA) takes some setup. See documentation"
      ],
      "metadata": {
        "id": "xk9yYiHmI6WR"
      }
    },
    {
      "cell_type": "code",
      "source": [
        "!nvidia-smi"
      ],
      "metadata": {
        "colab": {
          "base_uri": "https://localhost:8080/"
        },
        "id": "HrqzA8ZMJEGV",
        "outputId": "1290ad8b-2992-4b0a-f60b-7d38b051518a"
      },
      "execution_count": 68,
      "outputs": [
        {
          "output_type": "stream",
          "name": "stdout",
          "text": [
            "Tue Jun  3 23:39:10 2025       \n",
            "+-----------------------------------------------------------------------------------------+\n",
            "| NVIDIA-SMI 550.54.15              Driver Version: 550.54.15      CUDA Version: 12.4     |\n",
            "|-----------------------------------------+------------------------+----------------------+\n",
            "| GPU  Name                 Persistence-M | Bus-Id          Disp.A | Volatile Uncorr. ECC |\n",
            "| Fan  Temp   Perf          Pwr:Usage/Cap |           Memory-Usage | GPU-Util  Compute M. |\n",
            "|                                         |                        |               MIG M. |\n",
            "|=========================================+========================+======================|\n",
            "|   0  Tesla T4                       Off |   00000000:00:04.0 Off |                    0 |\n",
            "| N/A   55C    P8             13W /   70W |       0MiB /  15360MiB |      0%      Default |\n",
            "|                                         |                        |                  N/A |\n",
            "+-----------------------------------------+------------------------+----------------------+\n",
            "                                                                                         \n",
            "+-----------------------------------------------------------------------------------------+\n",
            "| Processes:                                                                              |\n",
            "|  GPU   GI   CI        PID   Type   Process name                              GPU Memory |\n",
            "|        ID   ID                                                               Usage      |\n",
            "|=========================================================================================|\n",
            "|  No running processes found                                                             |\n",
            "+-----------------------------------------------------------------------------------------+\n"
          ]
        }
      ]
    },
    {
      "cell_type": "markdown",
      "source": [
        "### 2. Check for GPU access with PyTorch"
      ],
      "metadata": {
        "id": "E2M7tmfJJ-63"
      }
    },
    {
      "cell_type": "code",
      "source": [
        "# Check for GPU access with PyTorch\n",
        "torch.cuda.is_available()"
      ],
      "metadata": {
        "colab": {
          "base_uri": "https://localhost:8080/"
        },
        "id": "KCoC3Qu0KTrF",
        "outputId": "111a1fce-1852-4d8b-e564-8d7a1b92b0ee"
      },
      "execution_count": 72,
      "outputs": [
        {
          "output_type": "execute_result",
          "data": {
            "text/plain": [
              "True"
            ]
          },
          "metadata": {},
          "execution_count": 72
        }
      ]
    },
    {
      "cell_type": "markdown",
      "source": [
        "For PyTorch since it's capable of running compute on the GPU or CPU, it's best practice to setup device agnostic code: https://pytorch.org/docs/stable/notes/cuda.html#best-practices"
      ],
      "metadata": {
        "id": "61cud3lmLlJ2"
      }
    },
    {
      "cell_type": "code",
      "source": [
        "# Setup device agnostic code\n",
        "device = \"cuda\" if torch.cuda.is_available() else \"cpu\"\n",
        "device"
      ],
      "metadata": {
        "colab": {
          "base_uri": "https://localhost:8080/",
          "height": 35
        },
        "id": "Jk7onSJ9KYck",
        "outputId": "7c95da95-363a-4671-9367-6cb3cc03c81e"
      },
      "execution_count": 70,
      "outputs": [
        {
          "output_type": "execute_result",
          "data": {
            "text/plain": [
              "'cuda'"
            ],
            "application/vnd.google.colaboratory.intrinsic+json": {
              "type": "string"
            }
          },
          "metadata": {},
          "execution_count": 70
        }
      ]
    },
    {
      "cell_type": "code",
      "source": [
        "# count number of devices\n",
        "torch.cuda.device_count()"
      ],
      "metadata": {
        "colab": {
          "base_uri": "https://localhost:8080/"
        },
        "id": "E6TPWUakKqw4",
        "outputId": "b3a97c87-a483-4714-cea6-dd5c4e58e64a"
      },
      "execution_count": 71,
      "outputs": [
        {
          "output_type": "execute_result",
          "data": {
            "text/plain": [
              "1"
            ]
          },
          "metadata": {},
          "execution_count": 71
        }
      ]
    },
    {
      "cell_type": "markdown",
      "source": [
        "### 3. Putting tensors (and models) on the GPU\n",
        "\n",
        "Will result in faster computations"
      ],
      "metadata": {
        "id": "Xy1PRZJlKuYg"
      }
    },
    {
      "cell_type": "code",
      "source": [
        "# Create a tensor (default on the CPU)\n",
        "tensor = torch.tensor([1, 2, 3])\n",
        "\n",
        "# Tensor not on GPU\n",
        "print(tensor, tensor.device)\n",
        "\n",
        "# Move tensor to GPU (if available)\n",
        "tensor_on_gpu = tensor.to(device)\n",
        "tensor_on_gpu"
      ],
      "metadata": {
        "colab": {
          "base_uri": "https://localhost:8080/"
        },
        "id": "WdzjLoY3MCg8",
        "outputId": "0bf4120c-ff0f-4f17-bf25-be42628c1c7a"
      },
      "execution_count": 73,
      "outputs": [
        {
          "output_type": "stream",
          "name": "stdout",
          "text": [
            "tensor([1, 2, 3]) cpu\n"
          ]
        },
        {
          "output_type": "execute_result",
          "data": {
            "text/plain": [
              "tensor([1, 2, 3], device='cuda:0')"
            ]
          },
          "metadata": {},
          "execution_count": 73
        }
      ]
    },
    {
      "cell_type": "markdown",
      "source": [
        "### 4. Moving tensor back to the CPU"
      ],
      "metadata": {
        "id": "n9ZeL7MJMNLv"
      }
    },
    {
      "cell_type": "code",
      "source": [
        "# If tensor is on GPU, can't transform it to NumPy\n",
        "# tensor_on_gpu.numpy()\n",
        "\n",
        "## TypeError: can't convert cuda:0 device type tensor to numpy. Use Tensor.cpu() to copy the tensor to host memory first.\n",
        "\n",
        "# Can set it back to CPU\n",
        "tensor_on_gpu.cpu().numpy()"
      ],
      "metadata": {
        "colab": {
          "base_uri": "https://localhost:8080/"
        },
        "id": "fedIXS_QMrma",
        "outputId": "b6153349-6d29-4ca6-9a56-c40aac0fb3af"
      },
      "execution_count": 75,
      "outputs": [
        {
          "output_type": "execute_result",
          "data": {
            "text/plain": [
              "array([1, 2, 3])"
            ]
          },
          "metadata": {},
          "execution_count": 75
        }
      ]
    },
    {
      "cell_type": "code",
      "source": [],
      "metadata": {
        "id": "jtr3zUNFMzg3"
      },
      "execution_count": null,
      "outputs": []
    }
  ]
}