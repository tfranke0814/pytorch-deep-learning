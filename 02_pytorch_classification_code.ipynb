{
  "nbformat": 4,
  "nbformat_minor": 0,
  "metadata": {
    "colab": {
      "provenance": [],
      "authorship_tag": "ABX9TyOn3sh4jwCGlHAJjAkR3Ww0",
      "include_colab_link": true
    },
    "kernelspec": {
      "name": "python3",
      "display_name": "Python 3"
    },
    "language_info": {
      "name": "python"
    }
  },
  "cells": [
    {
      "cell_type": "markdown",
      "metadata": {
        "id": "view-in-github",
        "colab_type": "text"
      },
      "source": [
        "<a href=\"https://colab.research.google.com/github/tfranke0814/pytorch-deep-learning/blob/main/02_pytorch_classification_code.ipynb\" target=\"_parent\"><img src=\"https://colab.research.google.com/assets/colab-badge.svg\" alt=\"Open In Colab\"/></a>"
      ]
    },
    {
      "cell_type": "markdown",
      "source": [
        "08:40:32 - https://www.youtube.com/watch?v=LyJtbe__2i0&t=8h40m32s"
      ],
      "metadata": {
        "id": "Zs0t93cd_yik"
      }
    },
    {
      "cell_type": "code",
      "execution_count": null,
      "metadata": {
        "id": "w0UIPV6A_hJ5"
      },
      "outputs": [],
      "source": [
        "import torch\n",
        "import matplotlib as plt"
      ]
    }
  ]
}