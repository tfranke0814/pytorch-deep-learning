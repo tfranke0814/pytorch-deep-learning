{
  "nbformat": 4,
  "nbformat_minor": 0,
  "metadata": {
    "colab": {
      "provenance": [],
      "gpuType": "T4",
      "authorship_tag": "ABX9TyN/m+auvvMmowHH10wE/6o4",
      "include_colab_link": true
    },
    "kernelspec": {
      "name": "python3",
      "display_name": "Python 3"
    },
    "language_info": {
      "name": "python"
    },
    "accelerator": "GPU"
  },
  "cells": [
    {
      "cell_type": "markdown",
      "metadata": {
        "id": "view-in-github",
        "colab_type": "text"
      },
      "source": [
        "<a href=\"https://colab.research.google.com/github/tfranke0814/pytorch-deep-learning/blob/main/02_pytorch_classification_code.ipynb\" target=\"_parent\"><img src=\"https://colab.research.google.com/assets/colab-badge.svg\" alt=\"Open In Colab\"/></a>"
      ]
    },
    {
      "cell_type": "markdown",
      "source": [
        "08:40:32 - https://www.youtube.com/watch?v=LyJtbe__2i0&t=8h40m32s"
      ],
      "metadata": {
        "id": "Zs0t93cd_yik"
      }
    },
    {
      "cell_type": "markdown",
      "source": [
        "# 02. NN classification with PyTorch\n",
        "\n",
        "Classifications is predicting whether one thing is something or another. (Muchas opciones)"
      ],
      "metadata": {
        "id": "TC_w3BkIp5YU"
      }
    },
    {
      "cell_type": "markdown",
      "source": [
        "## 1. Make classification data and get ready"
      ],
      "metadata": {
        "id": "B9-hH0cRqTyT"
      }
    },
    {
      "cell_type": "code",
      "source": [
        "import sklearn\n",
        "from sklearn.datasets import make_circles\n",
        "\n",
        "# Make 1000 samples\n",
        "n_samples = 1000\n",
        "\n",
        "X, y = make_circles(n_samples,\n",
        "                    noise=0.03,\n",
        "                    random_state=42)\n",
        "len(X), len(y)"
      ],
      "metadata": {
        "colab": {
          "base_uri": "https://localhost:8080/"
        },
        "id": "q3ehFTGNqY8w",
        "outputId": "3c919c1a-cadc-446d-8cef-9c6bacd23fef"
      },
      "execution_count": 2,
      "outputs": [
        {
          "output_type": "execute_result",
          "data": {
            "text/plain": [
              "(1000, 1000)"
            ]
          },
          "metadata": {},
          "execution_count": 2
        }
      ]
    },
    {
      "cell_type": "code",
      "source": [
        "print(f\"First 5 samples of X:\\n {X[:5]}\")\n",
        "print(f\"First 5 samples of y:\\n {y[:5]}\")"
      ],
      "metadata": {
        "colab": {
          "base_uri": "https://localhost:8080/"
        },
        "id": "-oN8caU1qvHx",
        "outputId": "8f7924f0-819e-482f-ae34-1ca961a53e3f"
      },
      "execution_count": 3,
      "outputs": [
        {
          "output_type": "stream",
          "name": "stdout",
          "text": [
            "First 5 samples of X:\n",
            " [[ 0.75424625  0.23148074]\n",
            " [-0.75615888  0.15325888]\n",
            " [-0.81539193  0.17328203]\n",
            " [-0.39373073  0.69288277]\n",
            " [ 0.44220765 -0.89672343]]\n",
            "First 5 samples of y:\n",
            " [1 1 1 1 0]\n"
          ]
        }
      ]
    },
    {
      "cell_type": "code",
      "source": [
        "# Make a DataFrame of circle data\n",
        "import pandas as pd\n",
        "circles = pd.DataFrame({\"X1\": X[:, 0],\n",
        "                        \"X2\": X[:, 1],\n",
        "                        \"label\": y})\n",
        "circles.head(10)"
      ],
      "metadata": {
        "colab": {
          "base_uri": "https://localhost:8080/",
          "height": 363
        },
        "id": "gl5mzxwBqzdY",
        "outputId": "342609b3-a9ea-4e82-bfe9-f9da59201474"
      },
      "execution_count": 4,
      "outputs": [
        {
          "output_type": "execute_result",
          "data": {
            "text/plain": [
              "         X1        X2  label\n",
              "0  0.754246  0.231481      1\n",
              "1 -0.756159  0.153259      1\n",
              "2 -0.815392  0.173282      1\n",
              "3 -0.393731  0.692883      1\n",
              "4  0.442208 -0.896723      0\n",
              "5 -0.479646  0.676435      1\n",
              "6 -0.013648  0.803349      1\n",
              "7  0.771513  0.147760      1\n",
              "8 -0.169322 -0.793456      1\n",
              "9 -0.121486  1.021509      0"
            ],
            "text/html": [
              "\n",
              "  <div id=\"df-104c1ee6-25ac-4c3b-a41f-aa440fd54cea\" class=\"colab-df-container\">\n",
              "    <div>\n",
              "<style scoped>\n",
              "    .dataframe tbody tr th:only-of-type {\n",
              "        vertical-align: middle;\n",
              "    }\n",
              "\n",
              "    .dataframe tbody tr th {\n",
              "        vertical-align: top;\n",
              "    }\n",
              "\n",
              "    .dataframe thead th {\n",
              "        text-align: right;\n",
              "    }\n",
              "</style>\n",
              "<table border=\"1\" class=\"dataframe\">\n",
              "  <thead>\n",
              "    <tr style=\"text-align: right;\">\n",
              "      <th></th>\n",
              "      <th>X1</th>\n",
              "      <th>X2</th>\n",
              "      <th>label</th>\n",
              "    </tr>\n",
              "  </thead>\n",
              "  <tbody>\n",
              "    <tr>\n",
              "      <th>0</th>\n",
              "      <td>0.754246</td>\n",
              "      <td>0.231481</td>\n",
              "      <td>1</td>\n",
              "    </tr>\n",
              "    <tr>\n",
              "      <th>1</th>\n",
              "      <td>-0.756159</td>\n",
              "      <td>0.153259</td>\n",
              "      <td>1</td>\n",
              "    </tr>\n",
              "    <tr>\n",
              "      <th>2</th>\n",
              "      <td>-0.815392</td>\n",
              "      <td>0.173282</td>\n",
              "      <td>1</td>\n",
              "    </tr>\n",
              "    <tr>\n",
              "      <th>3</th>\n",
              "      <td>-0.393731</td>\n",
              "      <td>0.692883</td>\n",
              "      <td>1</td>\n",
              "    </tr>\n",
              "    <tr>\n",
              "      <th>4</th>\n",
              "      <td>0.442208</td>\n",
              "      <td>-0.896723</td>\n",
              "      <td>0</td>\n",
              "    </tr>\n",
              "    <tr>\n",
              "      <th>5</th>\n",
              "      <td>-0.479646</td>\n",
              "      <td>0.676435</td>\n",
              "      <td>1</td>\n",
              "    </tr>\n",
              "    <tr>\n",
              "      <th>6</th>\n",
              "      <td>-0.013648</td>\n",
              "      <td>0.803349</td>\n",
              "      <td>1</td>\n",
              "    </tr>\n",
              "    <tr>\n",
              "      <th>7</th>\n",
              "      <td>0.771513</td>\n",
              "      <td>0.147760</td>\n",
              "      <td>1</td>\n",
              "    </tr>\n",
              "    <tr>\n",
              "      <th>8</th>\n",
              "      <td>-0.169322</td>\n",
              "      <td>-0.793456</td>\n",
              "      <td>1</td>\n",
              "    </tr>\n",
              "    <tr>\n",
              "      <th>9</th>\n",
              "      <td>-0.121486</td>\n",
              "      <td>1.021509</td>\n",
              "      <td>0</td>\n",
              "    </tr>\n",
              "  </tbody>\n",
              "</table>\n",
              "</div>\n",
              "    <div class=\"colab-df-buttons\">\n",
              "\n",
              "  <div class=\"colab-df-container\">\n",
              "    <button class=\"colab-df-convert\" onclick=\"convertToInteractive('df-104c1ee6-25ac-4c3b-a41f-aa440fd54cea')\"\n",
              "            title=\"Convert this dataframe to an interactive table.\"\n",
              "            style=\"display:none;\">\n",
              "\n",
              "  <svg xmlns=\"http://www.w3.org/2000/svg\" height=\"24px\" viewBox=\"0 -960 960 960\">\n",
              "    <path d=\"M120-120v-720h720v720H120Zm60-500h600v-160H180v160Zm220 220h160v-160H400v160Zm0 220h160v-160H400v160ZM180-400h160v-160H180v160Zm440 0h160v-160H620v160ZM180-180h160v-160H180v160Zm440 0h160v-160H620v160Z\"/>\n",
              "  </svg>\n",
              "    </button>\n",
              "\n",
              "  <style>\n",
              "    .colab-df-container {\n",
              "      display:flex;\n",
              "      gap: 12px;\n",
              "    }\n",
              "\n",
              "    .colab-df-convert {\n",
              "      background-color: #E8F0FE;\n",
              "      border: none;\n",
              "      border-radius: 50%;\n",
              "      cursor: pointer;\n",
              "      display: none;\n",
              "      fill: #1967D2;\n",
              "      height: 32px;\n",
              "      padding: 0 0 0 0;\n",
              "      width: 32px;\n",
              "    }\n",
              "\n",
              "    .colab-df-convert:hover {\n",
              "      background-color: #E2EBFA;\n",
              "      box-shadow: 0px 1px 2px rgba(60, 64, 67, 0.3), 0px 1px 3px 1px rgba(60, 64, 67, 0.15);\n",
              "      fill: #174EA6;\n",
              "    }\n",
              "\n",
              "    .colab-df-buttons div {\n",
              "      margin-bottom: 4px;\n",
              "    }\n",
              "\n",
              "    [theme=dark] .colab-df-convert {\n",
              "      background-color: #3B4455;\n",
              "      fill: #D2E3FC;\n",
              "    }\n",
              "\n",
              "    [theme=dark] .colab-df-convert:hover {\n",
              "      background-color: #434B5C;\n",
              "      box-shadow: 0px 1px 3px 1px rgba(0, 0, 0, 0.15);\n",
              "      filter: drop-shadow(0px 1px 2px rgba(0, 0, 0, 0.3));\n",
              "      fill: #FFFFFF;\n",
              "    }\n",
              "  </style>\n",
              "\n",
              "    <script>\n",
              "      const buttonEl =\n",
              "        document.querySelector('#df-104c1ee6-25ac-4c3b-a41f-aa440fd54cea button.colab-df-convert');\n",
              "      buttonEl.style.display =\n",
              "        google.colab.kernel.accessAllowed ? 'block' : 'none';\n",
              "\n",
              "      async function convertToInteractive(key) {\n",
              "        const element = document.querySelector('#df-104c1ee6-25ac-4c3b-a41f-aa440fd54cea');\n",
              "        const dataTable =\n",
              "          await google.colab.kernel.invokeFunction('convertToInteractive',\n",
              "                                                    [key], {});\n",
              "        if (!dataTable) return;\n",
              "\n",
              "        const docLinkHtml = 'Like what you see? Visit the ' +\n",
              "          '<a target=\"_blank\" href=https://colab.research.google.com/notebooks/data_table.ipynb>data table notebook</a>'\n",
              "          + ' to learn more about interactive tables.';\n",
              "        element.innerHTML = '';\n",
              "        dataTable['output_type'] = 'display_data';\n",
              "        await google.colab.output.renderOutput(dataTable, element);\n",
              "        const docLink = document.createElement('div');\n",
              "        docLink.innerHTML = docLinkHtml;\n",
              "        element.appendChild(docLink);\n",
              "      }\n",
              "    </script>\n",
              "  </div>\n",
              "\n",
              "\n",
              "    <div id=\"df-067f51f6-b1b9-4c4a-bad0-24b3ff3d6922\">\n",
              "      <button class=\"colab-df-quickchart\" onclick=\"quickchart('df-067f51f6-b1b9-4c4a-bad0-24b3ff3d6922')\"\n",
              "                title=\"Suggest charts\"\n",
              "                style=\"display:none;\">\n",
              "\n",
              "<svg xmlns=\"http://www.w3.org/2000/svg\" height=\"24px\"viewBox=\"0 0 24 24\"\n",
              "     width=\"24px\">\n",
              "    <g>\n",
              "        <path d=\"M19 3H5c-1.1 0-2 .9-2 2v14c0 1.1.9 2 2 2h14c1.1 0 2-.9 2-2V5c0-1.1-.9-2-2-2zM9 17H7v-7h2v7zm4 0h-2V7h2v10zm4 0h-2v-4h2v4z\"/>\n",
              "    </g>\n",
              "</svg>\n",
              "      </button>\n",
              "\n",
              "<style>\n",
              "  .colab-df-quickchart {\n",
              "      --bg-color: #E8F0FE;\n",
              "      --fill-color: #1967D2;\n",
              "      --hover-bg-color: #E2EBFA;\n",
              "      --hover-fill-color: #174EA6;\n",
              "      --disabled-fill-color: #AAA;\n",
              "      --disabled-bg-color: #DDD;\n",
              "  }\n",
              "\n",
              "  [theme=dark] .colab-df-quickchart {\n",
              "      --bg-color: #3B4455;\n",
              "      --fill-color: #D2E3FC;\n",
              "      --hover-bg-color: #434B5C;\n",
              "      --hover-fill-color: #FFFFFF;\n",
              "      --disabled-bg-color: #3B4455;\n",
              "      --disabled-fill-color: #666;\n",
              "  }\n",
              "\n",
              "  .colab-df-quickchart {\n",
              "    background-color: var(--bg-color);\n",
              "    border: none;\n",
              "    border-radius: 50%;\n",
              "    cursor: pointer;\n",
              "    display: none;\n",
              "    fill: var(--fill-color);\n",
              "    height: 32px;\n",
              "    padding: 0;\n",
              "    width: 32px;\n",
              "  }\n",
              "\n",
              "  .colab-df-quickchart:hover {\n",
              "    background-color: var(--hover-bg-color);\n",
              "    box-shadow: 0 1px 2px rgba(60, 64, 67, 0.3), 0 1px 3px 1px rgba(60, 64, 67, 0.15);\n",
              "    fill: var(--button-hover-fill-color);\n",
              "  }\n",
              "\n",
              "  .colab-df-quickchart-complete:disabled,\n",
              "  .colab-df-quickchart-complete:disabled:hover {\n",
              "    background-color: var(--disabled-bg-color);\n",
              "    fill: var(--disabled-fill-color);\n",
              "    box-shadow: none;\n",
              "  }\n",
              "\n",
              "  .colab-df-spinner {\n",
              "    border: 2px solid var(--fill-color);\n",
              "    border-color: transparent;\n",
              "    border-bottom-color: var(--fill-color);\n",
              "    animation:\n",
              "      spin 1s steps(1) infinite;\n",
              "  }\n",
              "\n",
              "  @keyframes spin {\n",
              "    0% {\n",
              "      border-color: transparent;\n",
              "      border-bottom-color: var(--fill-color);\n",
              "      border-left-color: var(--fill-color);\n",
              "    }\n",
              "    20% {\n",
              "      border-color: transparent;\n",
              "      border-left-color: var(--fill-color);\n",
              "      border-top-color: var(--fill-color);\n",
              "    }\n",
              "    30% {\n",
              "      border-color: transparent;\n",
              "      border-left-color: var(--fill-color);\n",
              "      border-top-color: var(--fill-color);\n",
              "      border-right-color: var(--fill-color);\n",
              "    }\n",
              "    40% {\n",
              "      border-color: transparent;\n",
              "      border-right-color: var(--fill-color);\n",
              "      border-top-color: var(--fill-color);\n",
              "    }\n",
              "    60% {\n",
              "      border-color: transparent;\n",
              "      border-right-color: var(--fill-color);\n",
              "    }\n",
              "    80% {\n",
              "      border-color: transparent;\n",
              "      border-right-color: var(--fill-color);\n",
              "      border-bottom-color: var(--fill-color);\n",
              "    }\n",
              "    90% {\n",
              "      border-color: transparent;\n",
              "      border-bottom-color: var(--fill-color);\n",
              "    }\n",
              "  }\n",
              "</style>\n",
              "\n",
              "      <script>\n",
              "        async function quickchart(key) {\n",
              "          const quickchartButtonEl =\n",
              "            document.querySelector('#' + key + ' button');\n",
              "          quickchartButtonEl.disabled = true;  // To prevent multiple clicks.\n",
              "          quickchartButtonEl.classList.add('colab-df-spinner');\n",
              "          try {\n",
              "            const charts = await google.colab.kernel.invokeFunction(\n",
              "                'suggestCharts', [key], {});\n",
              "          } catch (error) {\n",
              "            console.error('Error during call to suggestCharts:', error);\n",
              "          }\n",
              "          quickchartButtonEl.classList.remove('colab-df-spinner');\n",
              "          quickchartButtonEl.classList.add('colab-df-quickchart-complete');\n",
              "        }\n",
              "        (() => {\n",
              "          let quickchartButtonEl =\n",
              "            document.querySelector('#df-067f51f6-b1b9-4c4a-bad0-24b3ff3d6922 button');\n",
              "          quickchartButtonEl.style.display =\n",
              "            google.colab.kernel.accessAllowed ? 'block' : 'none';\n",
              "        })();\n",
              "      </script>\n",
              "    </div>\n",
              "\n",
              "    </div>\n",
              "  </div>\n"
            ],
            "application/vnd.google.colaboratory.intrinsic+json": {
              "type": "dataframe",
              "variable_name": "circles",
              "summary": "{\n  \"name\": \"circles\",\n  \"rows\": 1000,\n  \"fields\": [\n    {\n      \"column\": \"X1\",\n      \"properties\": {\n        \"dtype\": \"number\",\n        \"std\": 0.6398365674574611,\n        \"min\": -1.0595024599098635,\n        \"max\": 1.0337117525463373,\n        \"num_unique_values\": 1000,\n        \"samples\": [\n          -0.3751930206933384,\n          0.015380346701456493,\n          -0.7027835978832848\n        ],\n        \"semantic_type\": \"\",\n        \"description\": \"\"\n      }\n    },\n    {\n      \"column\": \"X2\",\n      \"properties\": {\n        \"dtype\": \"number\",\n        \"std\": 0.6411559581015379,\n        \"min\": -1.0677683182718436,\n        \"max\": 1.0360036756154805,\n        \"num_unique_values\": 1000,\n        \"samples\": [\n          0.6826597225888621,\n          0.9600260220697324,\n          -0.3147169925147762\n        ],\n        \"semantic_type\": \"\",\n        \"description\": \"\"\n      }\n    },\n    {\n      \"column\": \"label\",\n      \"properties\": {\n        \"dtype\": \"number\",\n        \"std\": 0,\n        \"min\": 0,\n        \"max\": 1,\n        \"num_unique_values\": 2,\n        \"samples\": [\n          0,\n          1\n        ],\n        \"semantic_type\": \"\",\n        \"description\": \"\"\n      }\n    }\n  ]\n}"
            }
          },
          "metadata": {},
          "execution_count": 4
        }
      ]
    },
    {
      "cell_type": "code",
      "source": [
        "circles[\"label\"].value_counts()"
      ],
      "metadata": {
        "id": "NUrPoq6uhasG",
        "outputId": "66614cae-eec9-4618-d64b-a86dc50eb628",
        "colab": {
          "base_uri": "https://localhost:8080/",
          "height": 178
        }
      },
      "execution_count": 5,
      "outputs": [
        {
          "output_type": "execute_result",
          "data": {
            "text/plain": [
              "label\n",
              "1    500\n",
              "0    500\n",
              "Name: count, dtype: int64"
            ],
            "text/html": [
              "<div>\n",
              "<style scoped>\n",
              "    .dataframe tbody tr th:only-of-type {\n",
              "        vertical-align: middle;\n",
              "    }\n",
              "\n",
              "    .dataframe tbody tr th {\n",
              "        vertical-align: top;\n",
              "    }\n",
              "\n",
              "    .dataframe thead th {\n",
              "        text-align: right;\n",
              "    }\n",
              "</style>\n",
              "<table border=\"1\" class=\"dataframe\">\n",
              "  <thead>\n",
              "    <tr style=\"text-align: right;\">\n",
              "      <th></th>\n",
              "      <th>count</th>\n",
              "    </tr>\n",
              "    <tr>\n",
              "      <th>label</th>\n",
              "      <th></th>\n",
              "    </tr>\n",
              "  </thead>\n",
              "  <tbody>\n",
              "    <tr>\n",
              "      <th>1</th>\n",
              "      <td>500</td>\n",
              "    </tr>\n",
              "    <tr>\n",
              "      <th>0</th>\n",
              "      <td>500</td>\n",
              "    </tr>\n",
              "  </tbody>\n",
              "</table>\n",
              "</div><br><label><b>dtype:</b> int64</label>"
            ]
          },
          "metadata": {},
          "execution_count": 5
        }
      ]
    },
    {
      "cell_type": "code",
      "source": [
        "# Visualize!!!!!\n",
        "import seaborn as sns\n",
        "sns.scatterplot(x=\"X1\",\n",
        "                y=\"X2\",\n",
        "                hue=\"label\",\n",
        "                data=circles);"
      ],
      "metadata": {
        "colab": {
          "base_uri": "https://localhost:8080/",
          "height": 449
        },
        "id": "Uw4yvkwUrUTw",
        "outputId": "28176e86-31dc-4e95-a6da-fa3a3e164f12"
      },
      "execution_count": 6,
      "outputs": [
        {
          "output_type": "display_data",
          "data": {
            "text/plain": [
              "<Figure size 640x480 with 1 Axes>"
            ],
            "image/png": "[encoded data removed]"
          },
          "metadata": {}
        }
      ]
    },
    {
      "cell_type": "code",
      "source": [
        "import matplotlib.pyplot as plt\n",
        "plt.scatter(X[:, 0], X[:, 1], c=y, cmap=plt.cm.RdYlBu);"
      ],
      "metadata": {
        "colab": {
          "base_uri": "https://localhost:8080/",
          "height": 430
        },
        "id": "dXEPzuFDrkdQ",
        "outputId": "aecac1b0-b9a7-4ffa-9345-4b065b59e78e"
      },
      "execution_count": 7,
      "outputs": [
        {
          "output_type": "display_data",
          "data": {
            "text/plain": [
              "<Figure size 640x480 with 1 Axes>"
            ],
            "image/png": "[encoded data removed]"
          },
          "metadata": {}
        }
      ]
    },
    {
      "cell_type": "markdown",
      "source": [
        "### 1.1 Check input and output shapes"
      ],
      "metadata": {
        "id": "i7OIZ0FJstyQ"
      }
    },
    {
      "cell_type": "code",
      "source": [
        "X.shape, y.shape"
      ],
      "metadata": {
        "colab": {
          "base_uri": "https://localhost:8080/"
        },
        "id": "0ZJV8eRKttEm",
        "outputId": "9f1f69ea-6b76-4482-963a-d307544d4163"
      },
      "execution_count": 8,
      "outputs": [
        {
          "output_type": "execute_result",
          "data": {
            "text/plain": [
              "((1000, 2), (1000,))"
            ]
          },
          "metadata": {},
          "execution_count": 8
        }
      ]
    },
    {
      "cell_type": "code",
      "source": [
        "# View the 1st example of features and labels\n",
        "X_sample = X[0]\n",
        "y_sample = y[0]\n",
        "\n",
        "print(f\"Sample input features: {X_sample} -> type: {X_sample.dtype}, shape: {X_sample.shape}\")\n",
        "print(f\"Sample label: {y_sample} -> type: {y_sample.dtype}, shape: {y_sample.shape}\")"
      ],
      "metadata": {
        "colab": {
          "base_uri": "https://localhost:8080/"
        },
        "id": "jd2dzLDbtwx0",
        "outputId": "0c9cebef-fa4d-447c-a4f7-51f1173808ec"
      },
      "execution_count": 9,
      "outputs": [
        {
          "output_type": "stream",
          "name": "stdout",
          "text": [
            "Sample input features: [0.75424625 0.23148074] -> type: float64, shape: (2,)\n",
            "Sample label: 1 -> type: int64, shape: ()\n"
          ]
        }
      ]
    },
    {
      "cell_type": "markdown",
      "source": [
        "### 1.2 Turn data into tensors and create train and test splits"
      ],
      "metadata": {
        "id": "e6cTCouJub88"
      }
    },
    {
      "cell_type": "code",
      "source": [
        "import torch\n",
        "torch.__version__"
      ],
      "metadata": {
        "colab": {
          "base_uri": "https://localhost:8080/",
          "height": 36
        },
        "id": "4mU2CblzutVs",
        "outputId": "a35335a3-6fb7-4326-de02-a277f7e14de3"
      },
      "execution_count": 10,
      "outputs": [
        {
          "output_type": "execute_result",
          "data": {
            "text/plain": [
              "'2.6.0+cu124'"
            ],
            "application/vnd.google.colaboratory.intrinsic+json": {
              "type": "string"
            }
          },
          "metadata": {},
          "execution_count": 10
        }
      ]
    },
    {
      "cell_type": "code",
      "source": [
        "X = torch.from_numpy(X).type(torch.float) if not torch.is_tensor(X) else X.type(torch.float)\n",
        "y = torch.from_numpy(y).type(torch.float) if not torch.is_tensor(y) else y.type(torch.float)\n",
        "X[:5], X.dtype,  y[:5], y.dtype"
      ],
      "metadata": {
        "colab": {
          "base_uri": "https://localhost:8080/"
        },
        "id": "oyCktc_0uwpU",
        "outputId": "33aeb8c8-e922-4075-ea8a-6d962597bcb7"
      },
      "execution_count": 11,
      "outputs": [
        {
          "output_type": "execute_result",
          "data": {
            "text/plain": [
              "(tensor([[ 0.7542,  0.2315],\n",
              "         [-0.7562,  0.1533],\n",
              "         [-0.8154,  0.1733],\n",
              "         [-0.3937,  0.6929],\n",
              "         [ 0.4422, -0.8967]]),\n",
              " torch.float32,\n",
              " tensor([1., 1., 1., 1., 0.]),\n",
              " torch.float32)"
            ]
          },
          "metadata": {},
          "execution_count": 11
        }
      ]
    },
    {
      "cell_type": "code",
      "source": [
        "# Split data into training into test sets\n",
        "from sklearn.model_selection import train_test_split\n",
        "X_train, X_test, y_train, y_test = train_test_split(X,\n",
        "                                                    y,\n",
        "                                                    test_size=0.2,\n",
        "                                                    random_state=42)\n",
        "len(X_train), len(X_test), len(y_train), len(y_test)"
      ],
      "metadata": {
        "colab": {
          "base_uri": "https://localhost:8080/"
        },
        "id": "6twq9dvju4gO",
        "outputId": "2a76305c-b4af-40d3-9482-b35b15ee2a38"
      },
      "execution_count": 12,
      "outputs": [
        {
          "output_type": "execute_result",
          "data": {
            "text/plain": [
              "(800, 200, 800, 200)"
            ]
          },
          "metadata": {},
          "execution_count": 12
        }
      ]
    },
    {
      "cell_type": "markdown",
      "source": [
        "## 2. Building a model\n",
        "\n",
        "Let's build a model to classify our blue and red dots.\n",
        "\n",
        "1. Setup device agnostic code\n",
        "2. Construct the model (subclass `nn.Module`)\n",
        "3. Define a loss function and an optimizer\n",
        "4. Train and test loop"
      ],
      "metadata": {
        "id": "IyY2Nihu0g7g"
      }
    },
    {
      "cell_type": "code",
      "source": [
        "from torch import nn\n",
        "\n",
        "device = 'cuda' if torch.cuda.is_available() else 'cpu'\n",
        "device"
      ],
      "metadata": {
        "colab": {
          "base_uri": "https://localhost:8080/",
          "height": 36
        },
        "id": "45FqPNn51fm5",
        "outputId": "0609d0e2-cf83-499b-ff96-ea9c4e006e40"
      },
      "execution_count": 13,
      "outputs": [
        {
          "output_type": "execute_result",
          "data": {
            "text/plain": [
              "'cpu'"
            ],
            "application/vnd.google.colaboratory.intrinsic+json": {
              "type": "string"
            }
          },
          "metadata": {},
          "execution_count": 13
        }
      ]
    },
    {
      "cell_type": "code",
      "source": [
        "class CircleModelV0(nn.Module):\n",
        "    def __init__(self):\n",
        "        super().__init__()\n",
        "        self.layer_1 = nn.Linear(in_features=2,\n",
        "                                 out_features=5)\n",
        "        self.layer_2 = nn.Linear(in_features=5,\n",
        "                                 out_features=1)\n",
        "    def forward(self, x: torch.Tensor) -> torch.Tensor:\n",
        "        return self.layer_2(self.layer_1(x))\n",
        "\n",
        "torch.manual_seed(42)\n",
        "model_0 = CircleModelV0().to(device) # Create an instance of the model\n",
        "model_0.state_dict()"
      ],
      "metadata": {
        "colab": {
          "base_uri": "https://localhost:8080/"
        },
        "id": "R4gyWI511nRu",
        "outputId": "ff236b74-f8e0-4518-b1fb-1e5571625621"
      },
      "execution_count": 14,
      "outputs": [
        {
          "output_type": "execute_result",
          "data": {
            "text/plain": [
              "OrderedDict([('layer_1.weight',\n",
              "              tensor([[ 0.5406,  0.5869],\n",
              "                      [-0.1657,  0.6496],\n",
              "                      [-0.1549,  0.1427],\n",
              "                      [-0.3443,  0.4153],\n",
              "                      [ 0.6233, -0.5188]])),\n",
              "             ('layer_1.bias',\n",
              "              tensor([0.6146, 0.1323, 0.5224, 0.0958, 0.3410])),\n",
              "             ('layer_2.weight',\n",
              "              tensor([[-0.0631,  0.3448,  0.0661, -0.2088,  0.1140]])),\n",
              "             ('layer_2.bias', tensor([-0.2060]))])"
            ]
          },
          "metadata": {},
          "execution_count": 14
        }
      ]
    },
    {
      "cell_type": "code",
      "source": [
        "# Let's replicate hte above using `nn.Sequential`\n",
        "model_0 = nn.Sequential(\n",
        "    nn.Linear(in_features=2, out_features=5),\n",
        "    nn.Linear(in_features=5, out_features=1)\n",
        ").to(device)\n",
        "model_0, model_0.state_dict()"
      ],
      "metadata": {
        "colab": {
          "base_uri": "https://localhost:8080/"
        },
        "id": "A5RHf_g522Ty",
        "outputId": "c8f4ff22-104e-4a47-f9c5-2eb63ab02359"
      },
      "execution_count": 15,
      "outputs": [
        {
          "output_type": "execute_result",
          "data": {
            "text/plain": [
              "(Sequential(\n",
              "   (0): Linear(in_features=2, out_features=5, bias=True)\n",
              "   (1): Linear(in_features=5, out_features=1, bias=True)\n",
              " ),\n",
              " OrderedDict([('0.weight',\n",
              "               tensor([[-0.0829, -0.2872],\n",
              "                       [ 0.4691, -0.5582],\n",
              "                       [-0.3260, -0.1997],\n",
              "                       [-0.4252,  0.0667],\n",
              "                       [-0.6984,  0.6386]])),\n",
              "              ('0.bias',\n",
              "               tensor([-0.6007,  0.5459,  0.1177, -0.2296,  0.4370])),\n",
              "              ('1.weight',\n",
              "               tensor([[ 0.0697,  0.3613,  0.0489, -0.1410,  0.1202]])),\n",
              "              ('1.bias', tensor([-0.1213]))]))"
            ]
          },
          "metadata": {},
          "execution_count": 15
        }
      ]
    },
    {
      "cell_type": "code",
      "source": [
        "# Make predictions\n",
        "with torch.inference_mode():\n",
        "  untrained_preds = model_0(X_test.to(device))\n",
        "print(f\"Length of predictions: {len(untrained_preds)} | Shape of predictions: {untrained_preds.shape}\")\n",
        "print(f\"Length of test samples: {len(y_test)} | Shape of test samples: {y_test.shape}\")\n",
        "print(f\"First 10 predictions: {untrained_preds[:10]}\")\n",
        "print(f\"First 10 test samples: {y_test[:10]}\")"
      ],
      "metadata": {
        "colab": {
          "base_uri": "https://localhost:8080/"
        },
        "id": "iP4djyzwD84X",
        "outputId": "9dc5b6ac-f910-4499-b1d0-66d073f81afb"
      },
      "execution_count": 16,
      "outputs": [
        {
          "output_type": "stream",
          "name": "stdout",
          "text": [
            "Length of predictions: 200 | Shape of predictions: torch.Size([200, 1])\n",
            "Length of test samples: 200 | Shape of test samples: torch.Size([200])\n",
            "First 10 predictions: tensor([[-0.0338],\n",
            "        [-0.0309],\n",
            "        [ 0.0894],\n",
            "        [-0.0692],\n",
            "        [ 0.2967],\n",
            "        [ 0.2968],\n",
            "        [ 0.1405],\n",
            "        [ 0.2178],\n",
            "        [ 0.0805],\n",
            "        [-0.0284]])\n",
            "First 10 test samples: tensor([1., 0., 1., 0., 1., 1., 0., 0., 1., 0.])\n"
          ]
        }
      ]
    },
    {
      "cell_type": "markdown",
      "source": [
        "### 2.1 Setup loss function and optimizer\n",
        "\n",
        "Which loss function or optimizer should we use?\n",
        "\n",
        "Again... this is problem specific."
      ],
      "metadata": {
        "id": "MATCCQh5HRmJ"
      }
    },
    {
      "cell_type": "code",
      "source": [
        "loss_fn = nn.BCELoss() # Requires inputs have already gone through the sigmoid function\n",
        "\n",
        "# Similar to `nn.Sequential(nn.Sigmoid(), nn.BCELoss())` --\\/\n",
        "loss_fn = nn.BCEWithLogitsLoss() # Has the sigmoid activation function built-in\n",
        "optimizer = torch.optim.SGD(params=model_0.parameters(),\n",
        "                            lr=0.1)"
      ],
      "metadata": {
        "id": "s0r1Vwf-MYwA"
      },
      "execution_count": 17,
      "outputs": []
    },
    {
      "cell_type": "code",
      "source": [
        "# Calculate Accuracy - Out of 100 examples, what percentage does our model get right?\n",
        "def accuracy_fn(y_true, y_pred):\n",
        "  correct = torch.eq(y_true, y_pred).sum().item()\n",
        "  acc = (correct / len(y_pred)) * 100\n",
        "  return acc"
      ],
      "metadata": {
        "id": "2PcNTA7VPtjm"
      },
      "execution_count": 18,
      "outputs": []
    },
    {
      "cell_type": "markdown",
      "source": [
        "## 3. Training the model\n",
        "\n",
        "Training loop time!!!!! - https://www.youtube.com/watch?v=Nutpusq_AFw"
      ],
      "metadata": {
        "id": "H5SIjZS1Qlh1"
      }
    },
    {
      "cell_type": "markdown",
      "source": [
        "### 3.1 Going from raw logits -> prediction probabilities -> prediction labels\n",
        "\n",
        "Can convert the **logits** into prediction probabilities by using the `torch.sigmoid()` function (or some other activation function).\n",
        "\n",
        "Can convert the prediction probabilities to **prediction labels** by rounding them or taking the `argmax()`."
      ],
      "metadata": {
        "id": "OXoJBoQXRn0a"
      }
    },
    {
      "cell_type": "code",
      "source": [
        "# View the first 5 outputs of the forward pass on the test data\n",
        "model_0.eval()\n",
        "with torch.inference_mode():\n",
        "  y_logits = model_0(X_test.to(device))[:5]\n",
        "y_logits"
      ],
      "metadata": {
        "id": "4YMmaElHSJ3L",
        "outputId": "3b28cbf0-ecfc-4603-db32-492e98f804ff",
        "colab": {
          "base_uri": "https://localhost:8080/"
        }
      },
      "execution_count": 19,
      "outputs": [
        {
          "output_type": "execute_result",
          "data": {
            "text/plain": [
              "tensor([[-0.0338],\n",
              "        [-0.0309],\n",
              "        [ 0.0894],\n",
              "        [-0.0692],\n",
              "        [ 0.2967]])"
            ]
          },
          "metadata": {},
          "execution_count": 19
        }
      ]
    },
    {
      "cell_type": "code",
      "source": [
        "# Use the sigmoid function on out model logits to get prediction probabilities\n",
        "y_pred_probs = torch.sigmoid(y_logits)\n",
        "y_pred_probs"
      ],
      "metadata": {
        "id": "AyEYW499Snyy",
        "outputId": "00da17c4-e29a-41f6-ca76-1c8af072fde9",
        "colab": {
          "base_uri": "https://localhost:8080/"
        }
      },
      "execution_count": 20,
      "outputs": [
        {
          "output_type": "execute_result",
          "data": {
            "text/plain": [
              "tensor([[0.4916],\n",
              "        [0.4923],\n",
              "        [0.5223],\n",
              "        [0.4827],\n",
              "        [0.5736]])"
            ]
          },
          "metadata": {},
          "execution_count": 20
        }
      ]
    },
    {
      "cell_type": "code",
      "source": [
        "y_preds = torch.round(y_pred_probs)"
      ],
      "metadata": {
        "id": "LCxxOppsTa1u"
      },
      "execution_count": 21,
      "outputs": []
    },
    {
      "cell_type": "code",
      "source": [
        "model_0.eval()\n",
        "with torch.inference_mode():\n",
        "  # Logits -> to pred probs -> pred labels\n",
        "  y_pred_labels = torch.round(torch.sigmoid(model_0(X_test.to(device))[:5]))\n",
        "\n",
        "print(torch.eq(y_preds.squeeze(), y_pred_labels.squeeze()))\n",
        "y_preds.squeeze(), y_pred_labels.squeeze()"
      ],
      "metadata": {
        "id": "_AOOAexCTd-t",
        "outputId": "edce7830-000b-4d32-97bf-7fe0b4c86bc6",
        "colab": {
          "base_uri": "https://localhost:8080/"
        }
      },
      "execution_count": 22,
      "outputs": [
        {
          "output_type": "stream",
          "name": "stdout",
          "text": [
            "tensor([True, True, True, True, True])\n"
          ]
        },
        {
          "output_type": "execute_result",
          "data": {
            "text/plain": [
              "(tensor([0., 0., 1., 0., 1.]), tensor([0., 0., 1., 0., 1.]))"
            ]
          },
          "metadata": {},
          "execution_count": 22
        }
      ]
    },
    {
      "cell_type": "code",
      "source": [
        "print(torch.eq(y_preds.squeeze(), y_pred_labels.squeeze()))"
      ],
      "metadata": {
        "id": "LGYBpAppVFBn",
        "outputId": "f5ec3dfe-ebc7-42ce-a5f2-78c98427c4c4",
        "colab": {
          "base_uri": "https://localhost:8080/"
        }
      },
      "execution_count": 23,
      "outputs": [
        {
          "output_type": "stream",
          "name": "stdout",
          "text": [
            "tensor([True, True, True, True, True])\n"
          ]
        }
      ]
    },
    {
      "cell_type": "markdown",
      "source": [
        "### 3.2 Building a training and testing loop"
      ],
      "metadata": {
        "id": "rt2_fXEPWL6O"
      }
    },
    {
      "cell_type": "markdown",
      "source": [
        "My loop on my own, before continuing with the video"
      ],
      "metadata": {
        "id": "6CzRldzka2gS"
      }
    },
    {
      "cell_type": "code",
      "source": [
        "epochs = 1000\n",
        "y_train = torch.reshape(y_train.to(device), (len(y_train), 1))\n",
        "y_test = torch.reshape(y_test.unsqueeze(dim=1).to(device), (len(y_test), 1))\n",
        "X_train, X_test = X_train.to(device), X_test.to(device)\n",
        "\n",
        "epoch_count = []\n",
        "loss_values = []\n",
        "test_loss_values = []\n",
        "train_acc = []\n",
        "test_acc = []\n",
        "\n",
        "# For epoch in range\n",
        "for epoch in range(epochs):\n",
        "  # Call model.train()\n",
        "  model_0.train()\n",
        "\n",
        "  # Do the forward pass\n",
        "  y_preds = model_0(X_train) ######## This is wrong, well technically right\n",
        "  # Calculate the loss\n",
        "  loss = loss_fn(y_preds, y_train) # with loss, but label is bad\n",
        "  # Optimizer Zero Grad\n",
        "  optimizer.zero_grad()\n",
        "  # Losssss Backwards\n",
        "  loss.backward()\n",
        "  # Optimizer Step... Step... Step\n",
        "  optimizer.step()\n",
        "\n",
        "  # Let's Test!\n",
        "  # Call model.eval()\n",
        "  model_0.eval()\n",
        "  # with torch inference mode\n",
        "  with torch.inference_mode():\n",
        "    # Do the forward pass\n",
        "    test_preds = model_0(X_test)\n",
        "    # Calculate the loss\n",
        "    test_loss = loss_fn(test_preds, y_test)\n",
        "  # Print out what's happenin'\n",
        "  if epoch % 10 == 0:\n",
        "    # Accuracy\n",
        "    train_acc.append(accuracy_fn(y_train, torch.round(torch.sigmoid(model_0(X_train)))))\n",
        "    test_acc.append(accuracy_fn(y_test, torch.round(torch.sigmoid(model_0(X_test)))))\n",
        "    epoch_count.append(epoch)\n",
        "    loss_values.append(loss)\n",
        "    test_loss_values.append(test_loss)\n",
        "    print(f\"Epoch: {epoch} | Loss: {loss} | Test Loss: {test_loss} | Train Acc: {train_acc[-1]} | Test Acc: {test_acc[-1]}\")"
      ],
      "metadata": {
        "id": "AQ3JsxwOWZbn",
        "outputId": "ecd380ff-53ab-4b0a-acca-46a1aedf5df8",
        "colab": {
          "base_uri": "https://localhost:8080/"
        }
      },
      "execution_count": 24,
      "outputs": [
        {
          "output_type": "stream",
          "name": "stdout",
          "text": [
            "Epoch: 0 | Loss: 0.6979604959487915 | Test Loss: 0.6943961977958679 | Train Acc: 51.87500000000001 | Test Acc: 57.99999999999999\n",
            "Epoch: 10 | Loss: 0.6958984136581421 | Test Loss: 0.6930528283119202 | Train Acc: 51.125 | Test Acc: 53.0\n",
            "Epoch: 20 | Loss: 0.6949015855789185 | Test Loss: 0.692543625831604 | Train Acc: 51.625 | Test Acc: 49.5\n",
            "Epoch: 30 | Loss: 0.6943498253822327 | Test Loss: 0.6923599243164062 | Train Acc: 51.125 | Test Acc: 49.5\n",
            "Epoch: 40 | Loss: 0.6940091848373413 | Test Loss: 0.6923156976699829 | Train Acc: 50.875 | Test Acc: 51.0\n",
            "Epoch: 50 | Loss: 0.6937822103500366 | Test Loss: 0.6923369765281677 | Train Acc: 50.5 | Test Acc: 50.0\n",
            "Epoch: 60 | Loss: 0.6936231255531311 | Test Loss: 0.6923913359642029 | Train Acc: 50.24999999999999 | Test Acc: 51.5\n",
            "Epoch: 70 | Loss: 0.6935078501701355 | Test Loss: 0.6924623847007751 | Train Acc: 50.375 | Test Acc: 51.0\n",
            "Epoch: 80 | Loss: 0.693422257900238 | Test Loss: 0.6925414800643921 | Train Acc: 49.75 | Test Acc: 50.0\n",
            "Epoch: 90 | Loss: 0.6933572888374329 | Test Loss: 0.692623496055603 | Train Acc: 50.0 | Test Acc: 53.0\n",
            "Epoch: 100 | Loss: 0.6933070421218872 | Test Loss: 0.6927053332328796 | Train Acc: 49.25 | Test Acc: 53.0\n",
            "Epoch: 110 | Loss: 0.6932673454284668 | Test Loss: 0.6927852630615234 | Train Acc: 50.0 | Test Acc: 54.0\n",
            "Epoch: 120 | Loss: 0.6932353377342224 | Test Loss: 0.692862331867218 | Train Acc: 50.375 | Test Acc: 53.0\n",
            "Epoch: 130 | Loss: 0.6932090520858765 | Test Loss: 0.6929360032081604 | Train Acc: 49.625 | Test Acc: 55.00000000000001\n",
            "Epoch: 140 | Loss: 0.6931869983673096 | Test Loss: 0.6930059790611267 | Train Acc: 50.74999999999999 | Test Acc: 54.0\n",
            "Epoch: 150 | Loss: 0.6931683421134949 | Test Loss: 0.6930724382400513 | Train Acc: 52.75 | Test Acc: 51.0\n",
            "Epoch: 160 | Loss: 0.6931520700454712 | Test Loss: 0.6931353807449341 | Train Acc: 51.24999999999999 | Test Acc: 56.00000000000001\n",
            "Epoch: 170 | Loss: 0.6931378245353699 | Test Loss: 0.693195104598999 | Train Acc: 51.37500000000001 | Test Acc: 52.0\n",
            "Epoch: 180 | Loss: 0.6931252479553223 | Test Loss: 0.6932517290115356 | Train Acc: 51.24999999999999 | Test Acc: 48.5\n",
            "Epoch: 190 | Loss: 0.6931140422821045 | Test Loss: 0.6933054327964783 | Train Acc: 51.37500000000001 | Test Acc: 50.0\n",
            "Epoch: 200 | Loss: 0.6931037306785583 | Test Loss: 0.6933566331863403 | Train Acc: 51.125 | Test Acc: 49.0\n",
            "Epoch: 210 | Loss: 0.6930944919586182 | Test Loss: 0.6934052109718323 | Train Acc: 51.0 | Test Acc: 47.5\n",
            "Epoch: 220 | Loss: 0.6930859088897705 | Test Loss: 0.6934517025947571 | Train Acc: 51.24999999999999 | Test Acc: 47.0\n",
            "Epoch: 230 | Loss: 0.6930782198905945 | Test Loss: 0.6934959888458252 | Train Acc: 51.125 | Test Acc: 47.5\n",
            "Epoch: 240 | Loss: 0.6930710077285767 | Test Loss: 0.6935384273529053 | Train Acc: 51.125 | Test Acc: 49.0\n",
            "Epoch: 250 | Loss: 0.6930644512176514 | Test Loss: 0.6935790777206421 | Train Acc: 51.125 | Test Acc: 48.0\n",
            "Epoch: 260 | Loss: 0.6930583715438843 | Test Loss: 0.6936179995536804 | Train Acc: 51.24999999999999 | Test Acc: 47.0\n",
            "Epoch: 270 | Loss: 0.6930526494979858 | Test Loss: 0.6936554908752441 | Train Acc: 51.24999999999999 | Test Acc: 46.5\n",
            "Epoch: 280 | Loss: 0.6930475831031799 | Test Loss: 0.6936914920806885 | Train Acc: 50.875 | Test Acc: 46.5\n",
            "Epoch: 290 | Loss: 0.6930427551269531 | Test Loss: 0.6937260627746582 | Train Acc: 50.875 | Test Acc: 46.5\n",
            "Epoch: 300 | Loss: 0.6930381655693054 | Test Loss: 0.6937593221664429 | Train Acc: 50.875 | Test Acc: 46.5\n",
            "Epoch: 310 | Loss: 0.6930340528488159 | Test Loss: 0.6937914490699768 | Train Acc: 50.875 | Test Acc: 47.5\n",
            "Epoch: 320 | Loss: 0.6930302381515503 | Test Loss: 0.6938223242759705 | Train Acc: 51.125 | Test Acc: 47.0\n",
            "Epoch: 330 | Loss: 0.6930266618728638 | Test Loss: 0.6938522458076477 | Train Acc: 51.125 | Test Acc: 47.5\n",
            "Epoch: 340 | Loss: 0.6930233240127563 | Test Loss: 0.6938809752464294 | Train Acc: 51.0 | Test Acc: 47.0\n",
            "Epoch: 350 | Loss: 0.6930201649665833 | Test Loss: 0.6939087510108948 | Train Acc: 51.0 | Test Acc: 46.0\n",
            "Epoch: 360 | Loss: 0.6930173635482788 | Test Loss: 0.6939355731010437 | Train Acc: 50.74999999999999 | Test Acc: 46.0\n",
            "Epoch: 370 | Loss: 0.6930146813392639 | Test Loss: 0.693961501121521 | Train Acc: 50.875 | Test Acc: 47.0\n",
            "Epoch: 380 | Loss: 0.6930122375488281 | Test Loss: 0.6939865350723267 | Train Acc: 51.37500000000001 | Test Acc: 47.5\n",
            "Epoch: 390 | Loss: 0.6930098533630371 | Test Loss: 0.6940105557441711 | Train Acc: 51.24999999999999 | Test Acc: 47.5\n",
            "Epoch: 400 | Loss: 0.6930077075958252 | Test Loss: 0.6940339803695679 | Train Acc: 51.24999999999999 | Test Acc: 47.5\n",
            "Epoch: 410 | Loss: 0.6930058002471924 | Test Loss: 0.6940564513206482 | Train Acc: 51.625 | Test Acc: 47.5\n",
            "Epoch: 420 | Loss: 0.6930038928985596 | Test Loss: 0.694078266620636 | Train Acc: 51.625 | Test Acc: 47.5\n",
            "Epoch: 430 | Loss: 0.6930022239685059 | Test Loss: 0.6940992474555969 | Train Acc: 51.24999999999999 | Test Acc: 47.5\n",
            "Epoch: 440 | Loss: 0.6930006146430969 | Test Loss: 0.6941196322441101 | Train Acc: 51.0 | Test Acc: 47.5\n",
            "Epoch: 450 | Loss: 0.6929991245269775 | Test Loss: 0.6941392421722412 | Train Acc: 50.875 | Test Acc: 47.0\n",
            "Epoch: 460 | Loss: 0.6929978132247925 | Test Loss: 0.6941581964492798 | Train Acc: 51.0 | Test Acc: 47.0\n",
            "Epoch: 470 | Loss: 0.6929965019226074 | Test Loss: 0.6941765546798706 | Train Acc: 51.0 | Test Acc: 47.0\n",
            "Epoch: 480 | Loss: 0.6929953098297119 | Test Loss: 0.6941942572593689 | Train Acc: 51.0 | Test Acc: 47.0\n",
            "Epoch: 490 | Loss: 0.6929941773414612 | Test Loss: 0.6942114233970642 | Train Acc: 51.125 | Test Acc: 47.0\n",
            "Epoch: 500 | Loss: 0.6929931640625 | Test Loss: 0.694227933883667 | Train Acc: 50.875 | Test Acc: 47.0\n",
            "Epoch: 510 | Loss: 0.6929922699928284 | Test Loss: 0.694243848323822 | Train Acc: 51.0 | Test Acc: 47.0\n",
            "Epoch: 520 | Loss: 0.692991316318512 | Test Loss: 0.6942593455314636 | Train Acc: 51.125 | Test Acc: 47.0\n",
            "Epoch: 530 | Loss: 0.6929904818534851 | Test Loss: 0.6942741274833679 | Train Acc: 51.24999999999999 | Test Acc: 46.5\n",
            "Epoch: 540 | Loss: 0.6929898262023926 | Test Loss: 0.6942885518074036 | Train Acc: 51.125 | Test Acc: 46.5\n",
            "Epoch: 550 | Loss: 0.6929890513420105 | Test Loss: 0.6943024396896362 | Train Acc: 50.875 | Test Acc: 46.5\n",
            "Epoch: 560 | Loss: 0.6929884552955627 | Test Loss: 0.6943159699440002 | Train Acc: 50.875 | Test Acc: 46.5\n",
            "Epoch: 570 | Loss: 0.6929877996444702 | Test Loss: 0.694328784942627 | Train Acc: 50.875 | Test Acc: 46.5\n",
            "Epoch: 580 | Loss: 0.6929872035980225 | Test Loss: 0.6943413019180298 | Train Acc: 50.875 | Test Acc: 47.0\n",
            "Epoch: 590 | Loss: 0.6929867267608643 | Test Loss: 0.6943533420562744 | Train Acc: 51.125 | Test Acc: 46.5\n",
            "Epoch: 600 | Loss: 0.692986249923706 | Test Loss: 0.6943650245666504 | Train Acc: 51.24999999999999 | Test Acc: 46.5\n",
            "Epoch: 610 | Loss: 0.6929857730865479 | Test Loss: 0.6943762302398682 | Train Acc: 51.125 | Test Acc: 46.5\n",
            "Epoch: 620 | Loss: 0.6929853558540344 | Test Loss: 0.6943871974945068 | Train Acc: 51.24999999999999 | Test Acc: 46.5\n",
            "Epoch: 630 | Loss: 0.6929849982261658 | Test Loss: 0.6943975687026978 | Train Acc: 51.24999999999999 | Test Acc: 46.0\n",
            "Epoch: 640 | Loss: 0.6929846405982971 | Test Loss: 0.6944076418876648 | Train Acc: 51.24999999999999 | Test Acc: 46.0\n",
            "Epoch: 650 | Loss: 0.6929842233657837 | Test Loss: 0.694417417049408 | Train Acc: 51.24999999999999 | Test Acc: 46.0\n",
            "Epoch: 660 | Loss: 0.6929839253425598 | Test Loss: 0.6944268941879272 | Train Acc: 51.24999999999999 | Test Acc: 46.0\n",
            "Epoch: 670 | Loss: 0.6929836273193359 | Test Loss: 0.6944359540939331 | Train Acc: 51.24999999999999 | Test Acc: 46.0\n",
            "Epoch: 680 | Loss: 0.6929833889007568 | Test Loss: 0.6944448351860046 | Train Acc: 51.24999999999999 | Test Acc: 46.0\n",
            "Epoch: 690 | Loss: 0.692983090877533 | Test Loss: 0.6944531798362732 | Train Acc: 51.24999999999999 | Test Acc: 46.0\n",
            "Epoch: 700 | Loss: 0.6929829120635986 | Test Loss: 0.6944613456726074 | Train Acc: 51.24999999999999 | Test Acc: 46.0\n",
            "Epoch: 710 | Loss: 0.6929826140403748 | Test Loss: 0.6944692730903625 | Train Acc: 51.24999999999999 | Test Acc: 46.0\n",
            "Epoch: 720 | Loss: 0.6929824948310852 | Test Loss: 0.694476842880249 | Train Acc: 51.37500000000001 | Test Acc: 46.0\n",
            "Epoch: 730 | Loss: 0.6929822564125061 | Test Loss: 0.6944841146469116 | Train Acc: 51.24999999999999 | Test Acc: 46.0\n",
            "Epoch: 740 | Loss: 0.6929820775985718 | Test Loss: 0.6944912672042847 | Train Acc: 51.24999999999999 | Test Acc: 46.0\n",
            "Epoch: 750 | Loss: 0.6929819583892822 | Test Loss: 0.6944980621337891 | Train Acc: 51.24999999999999 | Test Acc: 46.0\n",
            "Epoch: 760 | Loss: 0.6929817795753479 | Test Loss: 0.6945046186447144 | Train Acc: 51.37500000000001 | Test Acc: 46.0\n",
            "Epoch: 770 | Loss: 0.6929817199707031 | Test Loss: 0.6945109367370605 | Train Acc: 51.37500000000001 | Test Acc: 46.0\n",
            "Epoch: 780 | Loss: 0.692981481552124 | Test Loss: 0.6945170760154724 | Train Acc: 51.37500000000001 | Test Acc: 46.0\n",
            "Epoch: 790 | Loss: 0.6929813623428345 | Test Loss: 0.6945229172706604 | Train Acc: 51.5 | Test Acc: 45.5\n",
            "Epoch: 800 | Loss: 0.6929812431335449 | Test Loss: 0.6945286393165588 | Train Acc: 51.5 | Test Acc: 45.5\n",
            "Epoch: 810 | Loss: 0.6929812431335449 | Test Loss: 0.6945340633392334 | Train Acc: 51.5 | Test Acc: 45.5\n",
            "Epoch: 820 | Loss: 0.6929811239242554 | Test Loss: 0.6945394277572632 | Train Acc: 51.5 | Test Acc: 45.0\n",
            "Epoch: 830 | Loss: 0.692980945110321 | Test Loss: 0.6945445537567139 | Train Acc: 51.5 | Test Acc: 45.0\n",
            "Epoch: 840 | Loss: 0.692980945110321 | Test Loss: 0.6945493817329407 | Train Acc: 51.625 | Test Acc: 45.0\n",
            "Epoch: 850 | Loss: 0.6929808855056763 | Test Loss: 0.6945541501045227 | Train Acc: 51.625 | Test Acc: 45.0\n",
            "Epoch: 860 | Loss: 0.6929807066917419 | Test Loss: 0.6945587396621704 | Train Acc: 51.625 | Test Acc: 45.0\n",
            "Epoch: 870 | Loss: 0.6929807066917419 | Test Loss: 0.6945631504058838 | Train Acc: 51.625 | Test Acc: 45.0\n",
            "Epoch: 880 | Loss: 0.6929806470870972 | Test Loss: 0.6945673227310181 | Train Acc: 51.5 | Test Acc: 45.0\n",
            "Epoch: 890 | Loss: 0.6929805874824524 | Test Loss: 0.6945714354515076 | Train Acc: 51.37500000000001 | Test Acc: 45.0\n",
            "Epoch: 900 | Loss: 0.6929805874824524 | Test Loss: 0.6945754289627075 | Train Acc: 51.37500000000001 | Test Acc: 45.0\n",
            "Epoch: 910 | Loss: 0.6929805278778076 | Test Loss: 0.6945792436599731 | Train Acc: 51.37500000000001 | Test Acc: 45.0\n",
            "Epoch: 920 | Loss: 0.6929804086685181 | Test Loss: 0.6945828199386597 | Train Acc: 51.37500000000001 | Test Acc: 45.0\n",
            "Epoch: 930 | Loss: 0.6929804086685181 | Test Loss: 0.6945863962173462 | Train Acc: 51.37500000000001 | Test Acc: 45.0\n",
            "Epoch: 940 | Loss: 0.6929803490638733 | Test Loss: 0.6945897936820984 | Train Acc: 51.37500000000001 | Test Acc: 45.0\n",
            "Epoch: 950 | Loss: 0.6929803490638733 | Test Loss: 0.694593071937561 | Train Acc: 51.625 | Test Acc: 45.0\n",
            "Epoch: 960 | Loss: 0.6929803490638733 | Test Loss: 0.6945962309837341 | Train Acc: 51.625 | Test Acc: 45.0\n",
            "Epoch: 970 | Loss: 0.6929802894592285 | Test Loss: 0.6945993304252625 | Train Acc: 51.625 | Test Acc: 45.0\n",
            "Epoch: 980 | Loss: 0.6929802894592285 | Test Loss: 0.6946021914482117 | Train Acc: 51.625 | Test Acc: 45.0\n",
            "Epoch: 990 | Loss: 0.692980170249939 | Test Loss: 0.6946050524711609 | Train Acc: 51.37500000000001 | Test Acc: 45.0\n"
          ]
        }
      ]
    },
    {
      "cell_type": "markdown",
      "source": [
        "Continuing with the video!!"
      ],
      "metadata": {
        "id": "waZGUaaEYEFO"
      }
    },
    {
      "cell_type": "code",
      "source": [
        "torch.manual_seed(42)\n",
        "\n",
        "epochs = 100\n",
        "\n",
        "X_train, y_train, X_test, y_test = X_train.to(device), y_train.squeeze().to(device), X_test.to(device), y_test.squeeze().to(device)\n",
        "\n",
        "for epoch in range(epochs):\n",
        "  ### Training\n",
        "  model_0.train()\n",
        "\n",
        "  # 1. Forward pass\n",
        "  y_logits = model_0(X_train).squeeze()\n",
        "  y_pred = torch.round(torch.sigmoid(y_logits)) # Turn logits -> pred probs -> pred labels\n",
        "  # 2. Calculate the loss/Accuracy\n",
        "  # loss = loss_fn(torch.sigmoid(y_logits), ##  nn.BCELoss expects prediction probabilities as inputs\n",
        "  #                 y_train)\n",
        "  loss = loss_fn(y_logits, ##  nn.BCEWithLogitsLoss expects raw logits as inputs\n",
        "                  y_train)\n",
        "  acc = accuracy_fn(y_true=y_train,\n",
        "                    y_pred=y_pred)\n",
        "  # Optimizer Zero Grad\n",
        "  optimizer.zero_grad()\n",
        "  # Backpropigation\n",
        "  loss.backward()\n",
        "  # Gradient Descent Step\n",
        "  optimizer.step()\n",
        "\n",
        "  ### Testing\n",
        "  model_0.eval()\n",
        "  with torch.inference_mode():\n",
        "    # 1. Forward pass\n",
        "    test_logits = model_0(X_test).squeeze()\n",
        "    test_pred = torch.round(torch.sigmoid(test_logits))\n",
        "    # 2. Calculate the loss/Accuracy\n",
        "    test_loss = loss_fn(test_logits,\n",
        "                        y_test)\n",
        "    test_acc = accuracy_fn(y_true=y_test,\n",
        "                           y_pred=test_pred)\n",
        "  # Print out what's happenin'\n",
        "  if epoch % 10 == 0:\n",
        "    print(f\"Epoch: {epoch} | Loss: {loss:.5f} | Accuracy: {acc:.2f}% | Test Loss: {test_loss:.5f} | Test Accuracy: {test_acc:.2f}%\")"
      ],
      "metadata": {
        "id": "tCRrTM8abtO8",
        "outputId": "fd2961e7-c259-4d22-bed0-0d8145209b7a",
        "colab": {
          "base_uri": "https://localhost:8080/"
        }
      },
      "execution_count": 25,
      "outputs": [
        {
          "output_type": "stream",
          "name": "stdout",
          "text": [
            "Epoch: 0 | Loss: 0.69298 | Accuracy: 51.38% | Test Loss: 0.69461 | Test Accuracy: 45.00%\n",
            "Epoch: 10 | Loss: 0.69298 | Accuracy: 51.38% | Test Loss: 0.69461 | Test Accuracy: 45.00%\n",
            "Epoch: 20 | Loss: 0.69298 | Accuracy: 51.50% | Test Loss: 0.69461 | Test Accuracy: 45.00%\n",
            "Epoch: 30 | Loss: 0.69298 | Accuracy: 51.50% | Test Loss: 0.69462 | Test Accuracy: 45.00%\n",
            "Epoch: 40 | Loss: 0.69298 | Accuracy: 51.50% | Test Loss: 0.69462 | Test Accuracy: 45.00%\n",
            "Epoch: 50 | Loss: 0.69298 | Accuracy: 51.38% | Test Loss: 0.69462 | Test Accuracy: 45.00%\n",
            "Epoch: 60 | Loss: 0.69298 | Accuracy: 51.38% | Test Loss: 0.69462 | Test Accuracy: 45.00%\n",
            "Epoch: 70 | Loss: 0.69298 | Accuracy: 51.38% | Test Loss: 0.69462 | Test Accuracy: 45.00%\n",
            "Epoch: 80 | Loss: 0.69298 | Accuracy: 51.38% | Test Loss: 0.69463 | Test Accuracy: 45.00%\n",
            "Epoch: 90 | Loss: 0.69298 | Accuracy: 51.38% | Test Loss: 0.69463 | Test Accuracy: 45.00%\n"
          ]
        }
      ]
    },
    {
      "cell_type": "markdown",
      "source": [
        "## 4. Make predictions and evaluate the model\n",
        "\n",
        "From the metrics it looks like our model isn't learning anything\n",
        "\n",
        "As they say \"Visualize, Visualize, Visualize\""
      ],
      "metadata": {
        "id": "jbDUnim-gO7S"
      }
    },
    {
      "cell_type": "code",
      "source": [
        "import requests\n",
        "from pathlib import Path\n",
        "# Dowload helper functions from Learn PyTorch repo (if it isn't already downloaded)\n",
        "if Path(\"helper_functions.py\").is_file():\n",
        "  print(\"helper_functions.py already exists, skipping download\")\n",
        "else:\n",
        "  print(\"Downloading helper_functions.py\")\n",
        "  request = requests.get(\"https://raw.githubusercontent.com/tfranke0814/pytorch-deep-learning/refs/heads/main/helper_functions.py\")\n",
        "  with open(\"helper_functions.py\", \"wb\") as f:\n",
        "    f.write(request.content)\n",
        "\n",
        "from helper_functions import plot_predictions, plot_decision_boundary"
      ],
      "metadata": {
        "id": "Nu-Xyl06ikGe",
        "outputId": "9af38923-4d50-4f0c-ac1f-637413d7a2dd",
        "colab": {
          "base_uri": "https://localhost:8080/"
        }
      },
      "execution_count": 27,
      "outputs": [
        {
          "output_type": "stream",
          "name": "stdout",
          "text": [
            "Downloading helper_functions.py\n"
          ]
        }
      ]
    },
    {
      "cell_type": "markdown",
      "source": [
        "11:05:22 - https://www.youtube.com/watch?v=LyJtbe__2i0&t11h5m22s"
      ],
      "metadata": {
        "id": "9W5sJatJlfq3"
      }
    },
    {
      "cell_type": "code",
      "source": [
        "# Plot decision boundary of the model\n",
        "plt.figure(figsize=(12, 6))\n",
        "plt.subplot(1, 2, 1)"
      ],
      "metadata": {
        "id": "MCxHNyX_kLQ3"
      },
      "execution_count": null,
      "outputs": []
    }
  ]
}